{
  "nbformat": 4,
  "nbformat_minor": 0,
  "metadata": {
    "colab": {
      "provenance": [],
      "authorship_tag": "ABX9TyN/nmjtCArUk2CAjJ1/9khH",
      "include_colab_link": true
    },
    "kernelspec": {
      "name": "python3",
      "display_name": "Python 3"
    },
    "language_info": {
      "name": "python"
    }
  },
  "cells": [
    {
      "cell_type": "markdown",
      "metadata": {
        "id": "view-in-github",
        "colab_type": "text"
      },
      "source": [
        "<a href=\"https://colab.research.google.com/github/Fasiloc/Mathematics_learn-repo/blob/main/Classes/Day_15_Random_variable_and_random_process_simulations_.ipynb\" target=\"_parent\"><img src=\"https://colab.research.google.com/assets/colab-badge.svg\" alt=\"Open In Colab\"/></a>"
      ]
    },
    {
      "cell_type": "markdown",
      "source": [
        ">Main tool for random process simulation The Python package 'Symbulate' provides a user friendly framework for conducting simulations involving probability models. The syntax of 'Symbulate' mirrors the \"language of probability\" and makes it intuitive to specify, run, analyze, and visualize the results of a simulation. ## Instaling 'symbulate"
      ],
      "metadata": {
        "id": "u0xVMHMVoLDq"
      }
    },
    {
      "cell_type": "code",
      "execution_count": null,
      "metadata": {
        "colab": {
          "base_uri": "https://localhost:8080/"
        },
        "id": "fHHacVSkoJ4V",
        "outputId": "489ee9d8-3869-401f-9cd3-fca1910710f8"
      },
      "outputs": [
        {
          "output_type": "stream",
          "name": "stdout",
          "text": [
            "Collecting symbulate\n",
            "  Downloading symbulate-0.5.7-py3-none-any.whl (44 kB)\n",
            "\u001b[?25l\r\u001b[K     |███████▎                        | 10 kB 25.5 MB/s eta 0:00:01\r\u001b[K     |██████████████▋                 | 20 kB 9.1 MB/s eta 0:00:01\r\u001b[K     |██████████████████████          | 30 kB 7.6 MB/s eta 0:00:01\r\u001b[K     |█████████████████████████████▏  | 40 kB 7.1 MB/s eta 0:00:01\r\u001b[K     |████████████████████████████████| 44 kB 1.3 MB/s \n",
            "\u001b[?25hRequirement already satisfied: matplotlib in /usr/local/lib/python3.7/dist-packages (from symbulate) (3.2.2)\n",
            "Requirement already satisfied: scipy in /usr/local/lib/python3.7/dist-packages (from symbulate) (1.4.1)\n",
            "Requirement already satisfied: numpy in /usr/local/lib/python3.7/dist-packages (from symbulate) (1.19.5)\n",
            "Requirement already satisfied: pyparsing!=2.0.4,!=2.1.2,!=2.1.6,>=2.0.1 in /usr/local/lib/python3.7/dist-packages (from matplotlib->symbulate) (3.0.6)\n",
            "Requirement already satisfied: python-dateutil>=2.1 in /usr/local/lib/python3.7/dist-packages (from matplotlib->symbulate) (2.8.2)\n",
            "Requirement already satisfied: cycler>=0.10 in /usr/local/lib/python3.7/dist-packages (from matplotlib->symbulate) (0.11.0)\n",
            "Requirement already satisfied: kiwisolver>=1.0.1 in /usr/local/lib/python3.7/dist-packages (from matplotlib->symbulate) (1.3.2)\n",
            "Requirement already satisfied: six>=1.5 in /usr/local/lib/python3.7/dist-packages (from python-dateutil>=2.1->matplotlib->symbulate) (1.15.0)\n",
            "Installing collected packages: symbulate\n",
            "Successfully installed symbulate-0.5.7\n"
          ]
        }
      ],
      "source": [
        "!pip install symbulate"
      ]
    },
    {
      "cell_type": "markdown",
      "source": [
        "## Loading the library symbulate"
      ],
      "metadata": {
        "id": "UV0pvjbNoi09"
      }
    },
    {
      "cell_type": "code",
      "source": [
        "from symbulate import *\n",
        "%matplotlib inline"
      ],
      "metadata": {
        "id": "ZRA-U2DuoX8f"
      },
      "execution_count": null,
      "outputs": []
    },
    {
      "cell_type": "markdown",
      "source": [
        "## Probability Spaces\n",
        "A probability space consists of a sample space of possible outcomes and a probability measure which specifies how to assign probabilities to related events. Several common probability spaces are available in Symbulate. Users can also define their own probability spaces.\n",
        "\n",
        "\n",
        "1. `BoxModel`: Define a simple box model probability space.\n",
        "\n",
        "2. `Draw`: Draw an outcome according to a probability model.\n",
        "\n",
        "3. `ProbabilitySpace`: Define more general probability spaces.\n",
        "\n",
        "4. `Independent spaces`: Combine independent probability spaces."
      ],
      "metadata": {
        "id": "Cjs4AGBhpTxm"
      }
    },
    {
      "cell_type": "markdown",
      "source": [
        "### `BoxModel`\n",
        "The probability space in many elementary situations can be defined via a \"box model.\" To define a `Symbulate` `BoxModel` enter a list repesenting the tickets in the box. For example, rolling a fair six-sided die could be represented as a box model with six tickets labeled 1 through 6.\n",
        "\n",
        "This probability space can be simulated in `python` as follows:"
      ],
      "metadata": {
        "id": "fdPGx5qHpfwX"
      }
    },
    {
      "cell_type": "code",
      "source": [
        "die = list(range(1, 6+1)) # this is just a list of the number 1 through 6\n",
        "roll = BoxModel(die)"
      ],
      "metadata": {
        "id": "NEXzerBBph-E"
      },
      "execution_count": null,
      "outputs": []
    },
    {
      "cell_type": "markdown",
      "source": [
        "### Draw\n",
        "\n",
        "The `draw()` method represents a random trial of a random experiment.\n",
        "`BoxModel` itself just defines the model; it does not return any values. (The same is true for any probability space.) The `.draw()` method can be used to simulate one draw from the `BoxModel` (or any probability space).\n"
      ],
      "metadata": {
        "id": "By7lvIqbqaWi"
      }
    },
    {
      "cell_type": "code",
      "source": [
        "roll.draw()"
      ],
      "metadata": {
        "colab": {
          "base_uri": "https://localhost:8080/"
        },
        "id": "3yF4SYd1qdgz",
        "outputId": "d9121c96-97aa-40b7-cf88-1eb405ce4b9e"
      },
      "execution_count": null,
      "outputs": [
        {
          "output_type": "execute_result",
          "data": {
            "text/plain": [
              "2"
            ]
          },
          "metadata": {},
          "execution_count": 8
        }
      ]
    },
    {
      "cell_type": "markdown",
      "source": [
        "## BoxModel options as arguments\n",
        "\n",
        "*  `box`: A list of \"tickets\" to sample from.\n",
        "\n",
        "* `size`: How many tickets to draw from the box.\n",
        "\n",
        "* `replace`: True if the draws are made with replacement; False if without replacement\n",
        "* `probs`: Probabilities that the tickets are selected. By default, all tickets are equally likely.\n",
        "* `order_matters`: True if different orderings of the same tickets drawn are counted as different outcomes; False if the order in which the tickets are drawn is irrelevant.\n",
        "* Multiple tickets can be drawn from the box using the `size` argument."
      ],
      "metadata": {
        "id": "LFyka-1nq4rx"
      }
    },
    {
      "cell_type": "markdown",
      "source": [
        "> **Problem:** Simulate the random experiment of tossing two dies simultaneously"
      ],
      "metadata": {
        "id": "PnJs2hfIr-mI"
      }
    },
    {
      "cell_type": "code",
      "source": [
        "BoxModel(die, size=2).draw()"
      ],
      "metadata": {
        "colab": {
          "base_uri": "https://localhost:8080/"
        },
        "id": "NynYlTddsCDo",
        "outputId": "8535b401-4d38-41fd-94d5-f5cb69194fda"
      },
      "execution_count": null,
      "outputs": [
        {
          "output_type": "execute_result",
          "data": {
            "text/plain": [
              "(1, 2)"
            ]
          },
          "metadata": {},
          "execution_count": 10
        }
      ]
    },
    {
      "cell_type": "markdown",
      "source": [
        ">Note:\n",
        "By default BoxModel assumes equally likely tickets. This can be changed using the probs argument, by specifying a probability value for each ticket."
      ],
      "metadata": {
        "id": "piB8n_gysy-2"
      }
    },
    {
      "cell_type": "markdown",
      "source": [
        "Example. Suppose 32% of Americans are Democrats, 27% are Republican, and 41% are Independent. Five randomly selected Americans are surveyed about their political party affiliation."
      ],
      "metadata": {
        "id": "N5QomqERtCNl"
      }
    },
    {
      "cell_type": "code",
      "source": [
        "BoxModel(['D', 'R', 'I'], probs=[0.32, 0.27, 0.41], size=5).draw()"
      ],
      "metadata": {
        "colab": {
          "base_uri": "https://localhost:8080/"
        },
        "id": "iDZeMVEItuiM",
        "outputId": "d65929ea-2911-4799-8e63-2bd404e171af"
      },
      "execution_count": null,
      "outputs": [
        {
          "output_type": "execute_result",
          "data": {
            "text/plain": [
              "(D, I, I, I, R)"
            ]
          },
          "metadata": {},
          "execution_count": 14
        }
      ]
    },
    {
      "cell_type": "markdown",
      "source": [
        "The following code is equivalent to the previous code which used the probs option."
      ],
      "metadata": {
        "id": "N3XkCfjouJ44"
      }
    },
    {
      "cell_type": "code",
      "source": [
        "BoxModel({'D': 32,'R': 27, 'I': 41}, size=5).draw()"
      ],
      "metadata": {
        "colab": {
          "base_uri": "https://localhost:8080/"
        },
        "id": "R9e4Sngyucyy",
        "outputId": "05148903-4174-4668-9c4c-5209e04e3637"
      },
      "execution_count": null,
      "outputs": [
        {
          "output_type": "execute_result",
          "data": {
            "text/plain": [
              "(I, I, I, R, D)"
            ]
          },
          "metadata": {},
          "execution_count": 17
        }
      ]
    },
    {
      "cell_type": "markdown",
      "source": [
        "**porblem :** create a discrete probability space for tossing four coins simultaneouisly with probability for head is 0.65 and fascilitate a sample trial output"
      ],
      "metadata": {
        "id": "CapCANIFutrL"
      }
    },
    {
      "cell_type": "code",
      "source": [
        "BoxModel(['H', 'T'], probs=[0.65, 0.35], size=4).draw()"
      ],
      "metadata": {
        "colab": {
          "base_uri": "https://localhost:8080/"
        },
        "id": "mqdfEYsevJfp",
        "outputId": "daef1b25-9e48-4ce5-c8ba-49bf729a483c"
      },
      "execution_count": null,
      "outputs": [
        {
          "output_type": "execute_result",
          "data": {
            "text/plain": [
              "(T, H, H, T)"
            ]
          },
          "metadata": {},
          "execution_count": 18
        }
      ]
    },
    {
      "cell_type": "markdown",
      "source": [
        "### User defined Probability spaces\n",
        "\n",
        "The `ProbabilitySpace` command allows for user defined probability models. The first step in creating a probability space is to define a function that explains how to draw one outcome.\n"
      ],
      "metadata": {
        "id": "vL0dvT91vyJy"
      }
    },
    {
      "cell_type": "markdown",
      "source": [
        "Example. Ten percent of all e-mail is spam. Thirty percent of spam e-mails contain the word \"money\", while 2% of non-spam e-mails contain the word \"money\". Suppose an e-mail contains the word \"money\". Create a probability space with definition."
      ],
      "metadata": {
        "id": "7cTNVv7tv7So"
      }
    },
    {
      "cell_type": "code",
      "source": [
        "def spam_simulator():\n",
        "    email_type = BoxModel([\"spam\", \"not spam\"], probs=[.1, .9]).draw()\n",
        "    if email_type == \"spam\":\n",
        "        has_money = BoxModel([\"money\", \"no money\"], probs=[.3, .7]).draw()\n",
        "    else:\n",
        "        has_money = BoxModel([\"money\", \"no money\"], probs=[.02, .98]).draw()\n",
        "    return email_type, has_money"
      ],
      "metadata": {
        "id": "l-boN8_xw-Bo"
      },
      "execution_count": null,
      "outputs": []
    },
    {
      "cell_type": "markdown",
      "source": [
        "A ProbabilitySpace can be created once the specifications of the simulation have been defined through a function."
      ],
      "metadata": {
        "id": "d_alfRfKxKXD"
      }
    },
    {
      "cell_type": "code",
      "source": [
        "P = ProbabilitySpace(spam_simulator)\n",
        "P.draw()"
      ],
      "metadata": {
        "colab": {
          "base_uri": "https://localhost:8080/"
        },
        "id": "wOUiPEZfxS3s",
        "outputId": "2acb5488-2e85-4434-8f0a-cdd6d2b6224e"
      },
      "execution_count": null,
      "outputs": [
        {
          "output_type": "execute_result",
          "data": {
            "text/plain": [
              "('spam', 'no money')"
            ]
          },
          "metadata": {},
          "execution_count": 22
        }
      ]
    },
    {
      "cell_type": "markdown",
      "source": [
        "**problem :**5% of students will not write module test . 10% of students who where written test will fail the end sem exam. while 20% of the students who where not attending the module test will pass end sem exam. create a random trial of this conditional probability space "
      ],
      "metadata": {
        "id": "IJgd11Toxrgb"
      }
    },
    {
      "cell_type": "code",
      "source": [
        "def pass_simulator():\n",
        "    module_test = BoxModel([\"attend\", \"not attend\"], probs=[.95, .05]).draw()\n",
        "    if module_test == \"attend\":\n",
        "        end_sem= BoxModel([\"pass\", \"not pass\"], probs=[.9, .1]).draw()\n",
        "    else:\n",
        "        end_sem = BoxModel([\"pass\", \"not pass\"], probs=[.2, .8]).draw()\n",
        "    return module_test, end_sem\n",
        "P = ProbabilitySpace(pass_simulator)\n",
        "P.draw()"
      ],
      "metadata": {
        "colab": {
          "base_uri": "https://localhost:8080/"
        },
        "id": "cqGmR_QnyovV",
        "outputId": "74e1c984-e21b-42ea-d924-9e1b19acfcd3"
      },
      "execution_count": null,
      "outputs": [
        {
          "output_type": "execute_result",
          "data": {
            "text/plain": [
              "('attend', 'pass')"
            ]
          },
          "metadata": {},
          "execution_count": 24
        }
      ]
    },
    {
      "cell_type": "markdown",
      "source": [
        "### Commonly used probability spaces"
      ],
      "metadata": {
        "id": "qb_25bYJ01gF"
      }
    },
    {
      "cell_type": "code",
      "source": [
        "#binomial\n",
        "Binomial(n=10, p=0.5).draw()"
      ],
      "metadata": {
        "colab": {
          "base_uri": "https://localhost:8080/"
        },
        "id": "9j0FcuKI0zb3",
        "outputId": "d67268d1-0a67-4c5c-f349-155369f56109"
      },
      "execution_count": null,
      "outputs": [
        {
          "output_type": "execute_result",
          "data": {
            "text/plain": [
              "3"
            ]
          },
          "metadata": {},
          "execution_count": 25
        }
      ]
    },
    {
      "cell_type": "code",
      "source": [
        "#Poisson\n",
        "Poisson(lam=2).draw()"
      ],
      "metadata": {
        "colab": {
          "base_uri": "https://localhost:8080/"
        },
        "id": "mYIX_BVA1P8-",
        "outputId": "bd454faf-42ce-4b35-b40c-2855b94b85f2"
      },
      "execution_count": null,
      "outputs": [
        {
          "output_type": "execute_result",
          "data": {
            "text/plain": [
              "0"
            ]
          },
          "metadata": {},
          "execution_count": 29
        }
      ]
    },
    {
      "cell_type": "code",
      "source": [
        "# Normal\n",
        "Normal(mean=0,sd=1).draw()"
      ],
      "metadata": {
        "colab": {
          "base_uri": "https://localhost:8080/"
        },
        "id": "wzwIUyHC1QAT",
        "outputId": "1d6adda3-efff-4a88-ab3b-499f68f435ce"
      },
      "execution_count": null,
      "outputs": [
        {
          "output_type": "execute_result",
          "data": {
            "text/plain": [
              "0.0709077887761948"
            ]
          },
          "metadata": {},
          "execution_count": 32
        }
      ]
    },
    {
      "cell_type": "code",
      "source": [
        "#uniform\n",
        "Uniform(a=1,b=3).draw()"
      ],
      "metadata": {
        "colab": {
          "base_uri": "https://localhost:8080/"
        },
        "id": "M535meJz1QE8",
        "outputId": "abbb4e76-f40e-4750-ee96-09c72d8c2a1f"
      },
      "execution_count": null,
      "outputs": [
        {
          "output_type": "execute_result",
          "data": {
            "text/plain": [
              "1.2331206242042998"
            ]
          },
          "metadata": {},
          "execution_count": 34
        }
      ]
    },
    {
      "cell_type": "code",
      "source": [
        "# multi variate normal distribution\n",
        "\n",
        "mean_vector = [0, 1, 2]\n",
        "cov_matrix = [[1.00, 0.50, 0.25],\n",
        "              [0.50, 2.00, 0.00],\n",
        "              [0.25, 0.00, 4.00]]\n",
        "\n",
        "MultivariateNormal(mean = mean_vector, cov = cov_matrix).draw()"
      ],
      "metadata": {
        "colab": {
          "base_uri": "https://localhost:8080/"
        },
        "id": "ko2fFbPm2FXX",
        "outputId": "63188c61-dc3e-4d17-d8a4-8657dca8f1f6"
      },
      "execution_count": null,
      "outputs": [
        {
          "output_type": "execute_result",
          "data": {
            "text/plain": [
              "(1.3681276838945637, 1.4157920873236984, 3.7471974144027675)"
            ]
          },
          "metadata": {},
          "execution_count": 35
        }
      ]
    },
    {
      "cell_type": "markdown",
      "source": [
        "### Independent probability spaces\n",
        "Independent probability spaces can be constructed by multiplying (* in Python) two probability spaces. The product * syntax reflects that under independence joint probabilities are products of marginal probabilities: For example, events  A  and  B  are independent if and only if  P(A∩B)=P(A)P(B) .\n",
        "\n",
        "Example: Construct an independent probability space with two random experiments--Roll a fair six-sided die and a fair four-sided die.\n"
      ],
      "metadata": {
        "id": "AZ3j8tg4440y"
      }
    },
    {
      "cell_type": "code",
      "source": [
        "die6 = list(range(1, 6+1, 1))\n",
        "die4 = list(range(1, 4+1, 1))\n",
        "rolls = BoxModel(die6) * BoxModel(die4)\n",
        "rolls.draw()"
      ],
      "metadata": {
        "colab": {
          "base_uri": "https://localhost:8080/"
        },
        "id": "90Vz6qpA4732",
        "outputId": "8e7275d0-f794-47d0-abef-6e31b11c4594"
      },
      "execution_count": null,
      "outputs": [
        {
          "output_type": "execute_result",
          "data": {
            "text/plain": [
              "(4, 2)"
            ]
          },
          "metadata": {},
          "execution_count": 38
        }
      ]
    },
    {
      "cell_type": "markdown",
      "source": [
        "Example 2: A triple space with independent events of tossing a coin, an arrival distribution with mean 2 and  a service distribution with mean rate 5.\n"
      ],
      "metadata": {
        "id": "tBjOc2dk5pOm"
      }
    },
    {
      "cell_type": "code",
      "source": [
        "(BoxModel(['H', 'T']) * Poisson(lam=2) * Exponential(rate=5)).draw()"
      ],
      "metadata": {
        "colab": {
          "base_uri": "https://localhost:8080/"
        },
        "id": "jl_xPReo57tb",
        "outputId": "dd7bd741-5b0f-4c1f-9509-aacf2a39d4a9"
      },
      "execution_count": null,
      "outputs": [
        {
          "output_type": "execute_result",
          "data": {
            "text/plain": [
              "(H, 3, 0.26691230683126116)"
            ]
          },
          "metadata": {},
          "execution_count": 41
        }
      ]
    },
    {
      "cell_type": "markdown",
      "source": [
        "Example 3. Four independent Normal(0,1) values."
      ],
      "metadata": {
        "id": "5qcMT01G6L4a"
      }
    },
    {
      "cell_type": "code",
      "source": [
        "P = Normal(mean=0, sd=1) ** 4\n",
        "P.draw()"
      ],
      "metadata": {
        "colab": {
          "base_uri": "https://localhost:8080/"
        },
        "id": "14HdtOye6Yis",
        "outputId": "645f66a6-0d4a-4028-e99a-0353d001845d"
      },
      "execution_count": null,
      "outputs": [
        {
          "output_type": "execute_result",
          "data": {
            "text/plain": [
              "(-2.309027084753092, -1.2297817579816868, 0.469149335742197, -2.998450209399096)"
            ]
          },
          "metadata": {},
          "execution_count": 44
        }
      ]
    },
    {
      "cell_type": "markdown",
      "source": [
        "#Simulation Functions\n",
        "\n",
        "There are several functions available for simulating outcomes from a probability space (or values of random variables or random processes) and analyzing the results.\n",
        "\n",
        "1. Simulate: `.sim()` simulates outcomes of a probability model, or values of random variables or process\n",
        "2. Get: `.get()` returns the results of a particular realization of the simulation.\n",
        "3. Apply: `.apply()` applies a function to each outcome or value\n",
        "4. Tabulate: `.tabulate()` creates a table summary of simulated outcomes of a probability model or simulated values of random variables\n",
        "5. Filter: `.filter()` and its relatives create subsets of the values which satsify some criteria.\n",
        "6. Count: `.count()` and its relatives count the values which satsify some criteria.\n",
        "Summary: Examples using tabulate, filter, and count to manipulate simulation results."
      ],
      "metadata": {
        "id": "MvSH0STC65RN"
      }
    },
    {
      "cell_type": "markdown",
      "source": [
        "## Simulate\n",
        "The `.draw()` extension simulates one outcome from a probability space. Many draws can be simulated `.sim()`; the argument is the number of outcomes or values to simulate.\n",
        "\n",
        ">Example. Simulate 100 repetitions of rolling two fair six-sided dice; each repetition involves a pair of values."
      ],
      "metadata": {
        "id": "X0Es8MS27COF"
      }
    },
    {
      "cell_type": "code",
      "source": [
        "die = list(range(1, 6+1)) # this is just a list of the number 1 through 6\n",
        "roll = BoxModel(die, size = 2)\n",
        "roll.sim(100)"
      ],
      "metadata": {
        "colab": {
          "base_uri": "https://localhost:8080/",
          "height": 273
        },
        "id": "mCGOtLaO7GQB",
        "outputId": "06034425-6635-46ff-f7ae-1b5ec9d2ae60"
      },
      "execution_count": null,
      "outputs": [
        {
          "output_type": "execute_result",
          "data": {
            "text/html": [
              "\n",
              "    <table>\n",
              "      <thead>\n",
              "        <th width=\"10%\">Index</th>\n",
              "        <th width=\"90%\">Result</th>\n",
              "      </thead>\n",
              "      <tbody>\n",
              "        \n",
              "        <tr>\n",
              "          <td>0</td><td>(6, 2)</td>\n",
              "        </tr>\n",
              "        \n",
              "        <tr>\n",
              "          <td>1</td><td>(3, 6)</td>\n",
              "        </tr>\n",
              "        \n",
              "        <tr>\n",
              "          <td>2</td><td>(1, 1)</td>\n",
              "        </tr>\n",
              "        \n",
              "        <tr>\n",
              "          <td>3</td><td>(6, 6)</td>\n",
              "        </tr>\n",
              "        \n",
              "        <tr>\n",
              "          <td>4</td><td>(4, 4)</td>\n",
              "        </tr>\n",
              "        \n",
              "        <tr>\n",
              "          <td>5</td><td>(1, 3)</td>\n",
              "        </tr>\n",
              "        \n",
              "        <tr>\n",
              "          <td>6</td><td>(5, 6)</td>\n",
              "        </tr>\n",
              "        \n",
              "        <tr>\n",
              "          <td>7</td><td>(6, 1)</td>\n",
              "        </tr>\n",
              "        \n",
              "        <tr>\n",
              "          <td>8</td><td>(6, 5)</td>\n",
              "        </tr>\n",
              "        <tr><td>...</td><td>...</td></tr>\n",
              "        <tr>\n",
              "          <td>99</td><td>(1, 1)</td>\n",
              "        </tr>\n",
              "        \n",
              "      </tbody>\n",
              "    </table>\n",
              "        "
            ],
            "text/plain": [
              "Index Result\n",
              "0     (6, 2)\n",
              "1     (3, 6)\n",
              "2     (1, 1)\n",
              "3     (6, 6)\n",
              "4     (4, 4)\n",
              "5     (1, 3)\n",
              "6     (5, 6)\n",
              "7     (6, 1)\n",
              "8     (6, 5)\n",
              "..    ......\n",
              "99    (1, 1)"
            ]
          },
          "metadata": {},
          "execution_count": 45
        }
      ]
    },
    {
      "cell_type": "markdown",
      "source": [
        "Example 2. Ten percent of all e-mail is spam. Thirty percent of spam e-mails contain the word \"money\", while 2% of non-spam e-mails contain the word \"money\". Simulate the email status (spam or not) and wording (money or not) for 1000 emails."
      ],
      "metadata": {
        "id": "WOghCUjN7gEp"
      }
    },
    {
      "cell_type": "code",
      "source": [
        "def spam_simulator():\n",
        "    email_type = BoxModel([\"spam\", \"not spam\"], probs=[.1, .9]).draw()\n",
        "    if email_type == \"spam\":\n",
        "        has_money = BoxModel([\"money\", \"no money\"], probs=[.3, .7]).draw()\n",
        "    else:\n",
        "        has_money = BoxModel([\"money\", \"no money\"], probs=[.02, .98]).draw()\n",
        "    return email_type, has_money\n",
        "\n",
        "P = ProbabilitySpace(spam_simulator)\n",
        "sims = P.sim(1000)\n",
        "sims"
      ],
      "metadata": {
        "colab": {
          "base_uri": "https://localhost:8080/",
          "height": 273
        },
        "id": "EQOJdfff7krf",
        "outputId": "e836e98a-cd57-4efd-ed32-67ecc95bc0f3"
      },
      "execution_count": null,
      "outputs": [
        {
          "output_type": "execute_result",
          "data": {
            "text/html": [
              "\n",
              "    <table>\n",
              "      <thead>\n",
              "        <th width=\"10%\">Index</th>\n",
              "        <th width=\"90%\">Result</th>\n",
              "      </thead>\n",
              "      <tbody>\n",
              "        \n",
              "        <tr>\n",
              "          <td>0</td><td>('not spam', 'no money')</td>\n",
              "        </tr>\n",
              "        \n",
              "        <tr>\n",
              "          <td>1</td><td>('not spam', 'no money')</td>\n",
              "        </tr>\n",
              "        \n",
              "        <tr>\n",
              "          <td>2</td><td>('not spam', 'no money')</td>\n",
              "        </tr>\n",
              "        \n",
              "        <tr>\n",
              "          <td>3</td><td>('not spam', 'no money')</td>\n",
              "        </tr>\n",
              "        \n",
              "        <tr>\n",
              "          <td>4</td><td>('not spam', 'no money')</td>\n",
              "        </tr>\n",
              "        \n",
              "        <tr>\n",
              "          <td>5</td><td>('not spam', 'no money')</td>\n",
              "        </tr>\n",
              "        \n",
              "        <tr>\n",
              "          <td>6</td><td>('spam', 'money')</td>\n",
              "        </tr>\n",
              "        \n",
              "        <tr>\n",
              "          <td>7</td><td>('not spam', 'no money')</td>\n",
              "        </tr>\n",
              "        \n",
              "        <tr>\n",
              "          <td>8</td><td>('not spam', 'no money')</td>\n",
              "        </tr>\n",
              "        <tr><td>...</td><td>...</td></tr>\n",
              "        <tr>\n",
              "          <td>999</td><td>('not spam', 'no money')</td>\n",
              "        </tr>\n",
              "        \n",
              "      </tbody>\n",
              "    </table>\n",
              "        "
            ],
            "text/plain": [
              "Index Result\n",
              "0     ('not spam', 'no money')\n",
              "1     ('not spam', 'no money')\n",
              "2     ('not spam', 'no money')\n",
              "3     ('not spam', 'no money')\n",
              "4     ('not spam', 'no money')\n",
              "5     ('not spam', 'no money')\n",
              "6     ('spam', 'money')\n",
              "7     ('not spam', 'no money')\n",
              "8     ('not spam', 'no money')\n",
              "...   ........................\n",
              "999   ('not spam', 'no money')"
            ]
          },
          "metadata": {},
          "execution_count": 46
        }
      ]
    },
    {
      "cell_type": "markdown",
      "source": [
        "##Get\n",
        "The outcome of a particular repetition of the simulation can be accessed with `.get()`. Recall that Python starts an index at 0, so `.get(0)` returns the first simulated value,` .get(1)` the second, etc."
      ],
      "metadata": {
        "id": "dGxfWh_67-0T"
      }
    },
    {
      "cell_type": "code",
      "source": [
        "sims = roll.sim(4)\n",
        "sims"
      ],
      "metadata": {
        "colab": {
          "base_uri": "https://localhost:8080/",
          "height": 125
        },
        "id": "7GrimUvp7_mM",
        "outputId": "f95df5c7-df2e-4d9f-dad0-141f882aeba1"
      },
      "execution_count": null,
      "outputs": [
        {
          "output_type": "execute_result",
          "data": {
            "text/html": [
              "\n",
              "    <table>\n",
              "      <thead>\n",
              "        <th width=\"10%\">Index</th>\n",
              "        <th width=\"90%\">Result</th>\n",
              "      </thead>\n",
              "      <tbody>\n",
              "        \n",
              "        <tr>\n",
              "          <td>0</td><td>(1, 4)</td>\n",
              "        </tr>\n",
              "        \n",
              "        <tr>\n",
              "          <td>1</td><td>(4, 5)</td>\n",
              "        </tr>\n",
              "        \n",
              "        <tr>\n",
              "          <td>2</td><td>(1, 4)</td>\n",
              "        </tr>\n",
              "        \n",
              "        <tr>\n",
              "          <td>3</td><td>(5, 5)</td>\n",
              "        </tr>\n",
              "        \n",
              "      </tbody>\n",
              "    </table>\n",
              "        "
            ],
            "text/plain": [
              "Index Result\n",
              "0     (1, 4)\n",
              "1     (4, 5)\n",
              "2     (1, 4)\n",
              "3     (5, 5)"
            ]
          },
          "metadata": {},
          "execution_count": 47
        }
      ]
    },
    {
      "cell_type": "code",
      "source": [
        "#to display first outcome of the random experiment\n",
        "sims.get(0)"
      ],
      "metadata": {
        "colab": {
          "base_uri": "https://localhost:8080/"
        },
        "id": "NF-3h-uY8IIw",
        "outputId": "f7b3c9e4-4454-4a51-838f-7af3da1776f9"
      },
      "execution_count": null,
      "outputs": [
        {
          "output_type": "execute_result",
          "data": {
            "text/plain": [
              "(1, 4)"
            ]
          },
          "metadata": {},
          "execution_count": 48
        }
      ]
    },
    {
      "cell_type": "markdown",
      "source": [
        "## Apply\n",
        "Use `.apply()` to apply a function to each outcome of a simulation.\n",
        "\n",
        ">Example. Roll two fair six-sided dice and compute their sum."
      ],
      "metadata": {
        "id": "0Ey4-T928fAp"
      }
    },
    {
      "cell_type": "code",
      "source": [
        "die = list(range(1, 6+1)) # this is just a list of the number 1 through 6\n",
        "roll = BoxModel(die, size = 2)\n",
        "roll.sim(1000).apply(sum)"
      ],
      "metadata": {
        "colab": {
          "base_uri": "https://localhost:8080/",
          "height": 273
        },
        "id": "dFqfrA9X8icJ",
        "outputId": "1d994d7d-cc9d-4c63-c165-49f40b83f383"
      },
      "execution_count": null,
      "outputs": [
        {
          "output_type": "execute_result",
          "data": {
            "text/html": [
              "\n",
              "    <table>\n",
              "      <thead>\n",
              "        <th width=\"10%\">Index</th>\n",
              "        <th width=\"90%\">Result</th>\n",
              "      </thead>\n",
              "      <tbody>\n",
              "        \n",
              "        <tr>\n",
              "          <td>0</td><td>2</td>\n",
              "        </tr>\n",
              "        \n",
              "        <tr>\n",
              "          <td>1</td><td>9</td>\n",
              "        </tr>\n",
              "        \n",
              "        <tr>\n",
              "          <td>2</td><td>11</td>\n",
              "        </tr>\n",
              "        \n",
              "        <tr>\n",
              "          <td>3</td><td>6</td>\n",
              "        </tr>\n",
              "        \n",
              "        <tr>\n",
              "          <td>4</td><td>6</td>\n",
              "        </tr>\n",
              "        \n",
              "        <tr>\n",
              "          <td>5</td><td>6</td>\n",
              "        </tr>\n",
              "        \n",
              "        <tr>\n",
              "          <td>6</td><td>4</td>\n",
              "        </tr>\n",
              "        \n",
              "        <tr>\n",
              "          <td>7</td><td>6</td>\n",
              "        </tr>\n",
              "        \n",
              "        <tr>\n",
              "          <td>8</td><td>4</td>\n",
              "        </tr>\n",
              "        <tr><td>...</td><td>...</td></tr>\n",
              "        <tr>\n",
              "          <td>999</td><td>3</td>\n",
              "        </tr>\n",
              "        \n",
              "      </tbody>\n",
              "    </table>\n",
              "        "
            ],
            "text/plain": [
              "Index Result\n",
              "0     2\n",
              "1     9\n",
              "2     11\n",
              "3     6\n",
              "4     6\n",
              "5     6\n",
              "6     4\n",
              "7     6\n",
              "8     4\n",
              "...   .\n",
              "999   3"
            ]
          },
          "metadata": {},
          "execution_count": 49
        }
      ]
    },
    {
      "cell_type": "code",
      "source": [],
      "metadata": {
        "id": "4Pm0nrAT8r1Q"
      },
      "execution_count": null,
      "outputs": []
    },
    {
      "cell_type": "markdown",
      "source": [
        "## Tabulate\n",
        "The outcomes of a simulation can be quickly tabulated using `.tabulate()`. Tabulate counts the number of times each outcome occurs among the simulated values. Use `.tabulate(normalize=True)` to find the proportion (relative frequency) of times each outcome occurs.\n",
        ">Example. Find the frequency distribution of the random experiment of ` Roll two fair six-sided dies`."
      ],
      "metadata": {
        "id": "mPTJqfdC8gIn"
      }
    },
    {
      "cell_type": "code",
      "source": [
        "die = list(range(1, 6+1, 1)) # this is just a list of the number 1 through 6\n",
        "roll = BoxModel(die, size=2)\n",
        "rolls = roll.sim(10000)\n",
        "rolls.tabulate()\n"
      ],
      "metadata": {
        "colab": {
          "base_uri": "https://localhost:8080/",
          "height": 505
        },
        "id": "7S5SnRfq9B5q",
        "outputId": "ef4988aa-6fcf-4e82-bf23-de4dc789b99b"
      },
      "execution_count": null,
      "outputs": [
        {
          "output_type": "execute_result",
          "data": {
            "text/html": [
              "\n",
              "<table>\n",
              "  <thead>\n",
              "    <th width=\"80%\">Outcome</th>\n",
              "    <th width=\"20%\">Frequency</th>\n",
              "  </thead>\n",
              "  <tbody>\n",
              "    <tr><td>(1, 1)</td><td>276</td></tr><tr><td>(1, 2)</td><td>276</td></tr><tr><td>(1, 3)</td><td>269</td></tr><tr><td>(1, 4)</td><td>253</td></tr><tr><td>(1, 5)</td><td>284</td></tr><tr><td>(1, 6)</td><td>294</td></tr><tr><td>(2, 1)</td><td>280</td></tr><tr><td>(2, 2)</td><td>286</td></tr><tr><td>(2, 3)</td><td>283</td></tr><tr><td>(2, 4)</td><td>259</td></tr><tr><td>(2, 5)</td><td>274</td></tr><tr><td>(2, 6)</td><td>264</td></tr><tr><td>(3, 1)</td><td>260</td></tr><tr><td>(3, 2)</td><td>307</td></tr><tr><td>(3, 3)</td><td>293</td></tr><tr><td>(3, 4)</td><td>265</td></tr><tr><td>(3, 5)</td><td>309</td></tr><tr><td>(3, 6)</td><td>261</td></tr><tr><td>(4, 1)</td><td>296</td></tr><tr><td>...</td><td>...</td></tr><tr><td>(6, 6)</td><td>323</td></tr><tr><td><b>Total</b></td><td><b>10000</b></td></tr>\n",
              "  </tbody>\n",
              "</table>\n"
            ],
            "text/plain": [
              "Outcome Frequency\n",
              "(1, 1)  276\n",
              "(1, 2)  276\n",
              "(1, 3)  269\n",
              "(1, 4)  253\n",
              "(1, 5)  284\n",
              "(1, 6)  294\n",
              "(2, 1)  280\n",
              "(2, 2)  286\n",
              "(2, 3)  283\n",
              "(2, 4)  259\n",
              "(2, 5)  274\n",
              "(2, 6)  264\n",
              "(3, 1)  260\n",
              "(3, 2)  307\n",
              "(3, 3)  293\n",
              "(3, 4)  265\n",
              "(3, 5)  309\n",
              "(3, 6)  261\n",
              "(4, 1)  296\n",
              "......  ...\n",
              "(6, 6)  323\n",
              "  Total 10000"
            ]
          },
          "metadata": {},
          "execution_count": 50
        }
      ]
    },
    {
      "cell_type": "markdown",
      "source": [
        "Now sum the dice, and approximate the distribution of the sum using the `normalize` option."
      ],
      "metadata": {
        "id": "HZ0ZIU2j9dME"
      }
    },
    {
      "cell_type": "code",
      "source": [
        "rolls.apply(sum).tabulate(normalize=True)"
      ],
      "metadata": {
        "colab": {
          "base_uri": "https://localhost:8080/",
          "height": 294
        },
        "id": "1-eUb9mG9duX",
        "outputId": "4d612321-8828-4533-baa7-c6c29f5c4c44"
      },
      "execution_count": null,
      "outputs": [
        {
          "output_type": "execute_result",
          "data": {
            "text/html": [
              "\n",
              "<table>\n",
              "  <thead>\n",
              "    <th width=\"80%\">Outcome</th>\n",
              "    <th width=\"20%\">Relative Frequency</th>\n",
              "  </thead>\n",
              "  <tbody>\n",
              "    <tr><td>2</td><td>0.0276</td></tr><tr><td>3</td><td>0.0556</td></tr><tr><td>4</td><td>0.0815</td></tr><tr><td>5</td><td>0.1139</td></tr><tr><td>6</td><td>0.138</td></tr><tr><td>7</td><td>0.163</td></tr><tr><td>8</td><td>0.1382</td></tr><tr><td>9</td><td>0.1095</td></tr><tr><td>10</td><td>0.085</td></tr><tr><td>11</td><td>0.0554</td></tr><tr><td>12</td><td>0.0323</td></tr><tr><td><b>Total</b></td><td><b>1.0</b></td></tr>\n",
              "  </tbody>\n",
              "</table>\n"
            ],
            "text/plain": [
              "Outcome Relative Frequency\n",
              "2       0.0276\n",
              "3       0.0556\n",
              "4       0.0815\n",
              "5       0.1139\n",
              "6       0.138\n",
              "7       0.163\n",
              "8       0.1382\n",
              "9       0.1095\n",
              "10      0.085\n",
              "11      0.0554\n",
              "12      0.0323\n",
              "  Total 1.0"
            ]
          },
          "metadata": {},
          "execution_count": 51
        }
      ]
    },
    {
      "cell_type": "markdown",
      "source": [
        "Individual entries of the table can be referenced using `.tabulate()[label] `where label represents the value of interest.\n"
      ],
      "metadata": {
        "id": "HAzNPP3W-AwT"
      }
    },
    {
      "cell_type": "code",
      "source": [
        "# number of times the event (2,4) repeates in the simulation\n",
        "rolls.tabulate()[(2,4)]"
      ],
      "metadata": {
        "colab": {
          "base_uri": "https://localhost:8080/"
        },
        "id": "VOch4cQj-GLZ",
        "outputId": "48e10792-c03a-47b0-dff7-372784ff3691"
      },
      "execution_count": null,
      "outputs": [
        {
          "output_type": "execute_result",
          "data": {
            "text/plain": [
              "259"
            ]
          },
          "metadata": {},
          "execution_count": 52
        }
      ]
    },
    {
      "cell_type": "markdown",
      "source": [
        "Example: Simulate the random experiment of tossing two dies. Find the probability that the sum is 10,11 or 12."
      ],
      "metadata": {
        "id": "C-iA2YAy-QhM"
      }
    },
    {
      "cell_type": "code",
      "source": [
        "roll_sum = rolls.apply(sum).tabulate(normalize=True)\n",
        "roll_sum[10] + roll_sum[11] + roll_sum[12]"
      ],
      "metadata": {
        "colab": {
          "base_uri": "https://localhost:8080/"
        },
        "id": "DPJZ4M2I-loY",
        "outputId": "578f95ec-f45b-4e6e-e919-d0d0ddfb8289"
      },
      "execution_count": null,
      "outputs": [
        {
          "output_type": "execute_result",
          "data": {
            "text/plain": [
              "0.1727"
            ]
          },
          "metadata": {},
          "execution_count": 53
        }
      ]
    },
    {
      "cell_type": "markdown",
      "source": [
        "## Filter\n",
        "You can get the subset of simulations equal to a particular value using .`filter_eq()`.\n",
        ">Example 1: Trowing an unbiased coin 1000 times and filter the events with 'H' as outcome."
      ],
      "metadata": {
        "id": "iIGSAWMB-qTD"
      }
    },
    {
      "cell_type": "code",
      "source": [
        "Heads = BoxModel(['H','T']).sim(1000).filter_eq('H')\n",
        "Heads"
      ],
      "metadata": {
        "colab": {
          "base_uri": "https://localhost:8080/",
          "height": 273
        },
        "id": "CnXeUORP-2t7",
        "outputId": "bd3faec8-28a8-4193-ad7f-762e8b2f327f"
      },
      "execution_count": null,
      "outputs": [
        {
          "output_type": "execute_result",
          "data": {
            "text/html": [
              "\n",
              "    <table>\n",
              "      <thead>\n",
              "        <th width=\"10%\">Index</th>\n",
              "        <th width=\"90%\">Result</th>\n",
              "      </thead>\n",
              "      <tbody>\n",
              "        \n",
              "        <tr>\n",
              "          <td>0</td><td>H</td>\n",
              "        </tr>\n",
              "        \n",
              "        <tr>\n",
              "          <td>1</td><td>H</td>\n",
              "        </tr>\n",
              "        \n",
              "        <tr>\n",
              "          <td>2</td><td>H</td>\n",
              "        </tr>\n",
              "        \n",
              "        <tr>\n",
              "          <td>3</td><td>H</td>\n",
              "        </tr>\n",
              "        \n",
              "        <tr>\n",
              "          <td>4</td><td>H</td>\n",
              "        </tr>\n",
              "        \n",
              "        <tr>\n",
              "          <td>5</td><td>H</td>\n",
              "        </tr>\n",
              "        \n",
              "        <tr>\n",
              "          <td>6</td><td>H</td>\n",
              "        </tr>\n",
              "        \n",
              "        <tr>\n",
              "          <td>7</td><td>H</td>\n",
              "        </tr>\n",
              "        \n",
              "        <tr>\n",
              "          <td>8</td><td>H</td>\n",
              "        </tr>\n",
              "        <tr><td>...</td><td>...</td></tr>\n",
              "        <tr>\n",
              "          <td>503</td><td>H</td>\n",
              "        </tr>\n",
              "        \n",
              "      </tbody>\n",
              "    </table>\n",
              "        "
            ],
            "text/plain": [
              "Index Result\n",
              "0     H\n",
              "1     H\n",
              "2     H\n",
              "3     H\n",
              "4     H\n",
              "5     H\n",
              "6     H\n",
              "7     H\n",
              "8     H\n",
              "...   .\n",
              "503   H"
            ]
          },
          "metadata": {},
          "execution_count": 57
        }
      ]
    },
    {
      "cell_type": "code",
      "source": [
        "RE1=BoxModel(['H','T']).sim(10000)\n",
        "RE1.tabulate(normalize=True)"
      ],
      "metadata": {
        "colab": {
          "base_uri": "https://localhost:8080/",
          "height": 104
        },
        "id": "qw_biedQ_IaK",
        "outputId": "63458391-1395-4b8b-e75e-ccffd95fbde3"
      },
      "execution_count": null,
      "outputs": [
        {
          "output_type": "execute_result",
          "data": {
            "text/html": [
              "\n",
              "<table>\n",
              "  <thead>\n",
              "    <th width=\"80%\">Outcome</th>\n",
              "    <th width=\"20%\">Relative Frequency</th>\n",
              "  </thead>\n",
              "  <tbody>\n",
              "    <tr><td>H</td><td>0.4952</td></tr><tr><td>T</td><td>0.5048</td></tr><tr><td><b>Total</b></td><td><b>1.0</b></td></tr>\n",
              "  </tbody>\n",
              "</table>\n"
            ],
            "text/plain": [
              "Outcome Relative Frequency\n",
              "H       0.4952\n",
              "T       0.5048\n",
              "  Total 1.0"
            ]
          },
          "metadata": {},
          "execution_count": 58
        }
      ]
    },
    {
      "cell_type": "markdown",
      "source": [
        ">Example 2: Find the probability distribution of tossing two unbiased coins simultaneousely."
      ],
      "metadata": {
        "id": "0Ha-G9hiCDll"
      }
    },
    {
      "cell_type": "code",
      "source": [
        "RE2=BoxModel(['H','T'],size=2).sim(10000)\n",
        "RE2.tabulate(normalize=True)"
      ],
      "metadata": {
        "colab": {
          "base_uri": "https://localhost:8080/",
          "height": 145
        },
        "id": "6cBRBDFaCEE0",
        "outputId": "ae948276-d504-4fa3-dab2-bd07d56e4c15"
      },
      "execution_count": null,
      "outputs": [
        {
          "output_type": "execute_result",
          "data": {
            "text/html": [
              "\n",
              "<table>\n",
              "  <thead>\n",
              "    <th width=\"80%\">Outcome</th>\n",
              "    <th width=\"20%\">Relative Frequency</th>\n",
              "  </thead>\n",
              "  <tbody>\n",
              "    <tr><td>(H, H)</td><td>0.2452</td></tr><tr><td>(H, T)</td><td>0.2467</td></tr><tr><td>(T, H)</td><td>0.2486</td></tr><tr><td>(T, T)</td><td>0.2595</td></tr><tr><td><b>Total</b></td><td><b>1.0</b></td></tr>\n",
              "  </tbody>\n",
              "</table>\n"
            ],
            "text/plain": [
              "Outcome Relative Frequency\n",
              "(H, H)  0.2452\n",
              "(H, T)  0.2467\n",
              "(T, H)  0.2486\n",
              "(T, T)  0.2595\n",
              "  Total 1.0"
            ]
          },
          "metadata": {},
          "execution_count": 59
        }
      ]
    },
    {
      "cell_type": "markdown",
      "source": [
        "> Find the probability distribution of tossing two coins and two dies simultaneously"
      ],
      "metadata": {
        "id": "pXvwmzQgDRTd"
      }
    },
    {
      "cell_type": "code",
      "source": [
        "(BoxModel(['H', 'T'],size=2) *BoxModel(die,size=2)).sim(500).tabulate(normalize=True)"
      ],
      "metadata": {
        "colab": {
          "base_uri": "https://localhost:8080/",
          "height": 505
        },
        "id": "y6s5-I3RDR37",
        "outputId": "33dcd168-fbaa-4870-d325-f21448dcc619"
      },
      "execution_count": null,
      "outputs": [
        {
          "output_type": "execute_result",
          "data": {
            "text/html": [
              "\n",
              "<table>\n",
              "  <thead>\n",
              "    <th width=\"80%\">Outcome</th>\n",
              "    <th width=\"20%\">Relative Frequency</th>\n",
              "  </thead>\n",
              "  <tbody>\n",
              "    <tr><td>((H, H), (1, 1))</td><td>0.002</td></tr><tr><td>((H, H), (1, 2))</td><td>0.01</td></tr><tr><td>((H, H), (1, 3))</td><td>0.016</td></tr><tr><td>((H, H), (1, 4))</td><td>0.01</td></tr><tr><td>((H, H), (1, 5))</td><td>0.01</td></tr><tr><td>((H, H), (1, 6))</td><td>0.006</td></tr><tr><td>((H, H), (2, 1))</td><td>0.016</td></tr><tr><td>((H, H), (2, 2))</td><td>0.01</td></tr><tr><td>((H, H), (2, 3))</td><td>0.01</td></tr><tr><td>((H, H), (2, 4))</td><td>0.004</td></tr><tr><td>((H, H), (2, 5))</td><td>0.002</td></tr><tr><td>((H, H), (2, 6))</td><td>0.002</td></tr><tr><td>((H, H), (3, 1))</td><td>0.006</td></tr><tr><td>((H, H), (3, 2))</td><td>0.006</td></tr><tr><td>((H, H), (3, 3))</td><td>0.008</td></tr><tr><td>((H, H), (3, 4))</td><td>0.008</td></tr><tr><td>((H, H), (3, 5))</td><td>0.004</td></tr><tr><td>((H, H), (3, 6))</td><td>0.008</td></tr><tr><td>((H, H), (4, 1))</td><td>0.004</td></tr><tr><td>...</td><td>...</td></tr><tr><td>((T, T), (6, 6))</td><td>0.002</td></tr><tr><td><b>Total</b></td><td><b>1.0000000000000007</b></td></tr>\n",
              "  </tbody>\n",
              "</table>\n"
            ],
            "text/plain": [
              "Outcome          Relative Frequency\n",
              "((H, H), (1, 1)) 0.002\n",
              "((H, H), (1, 2)) 0.01\n",
              "((H, H), (1, 3)) 0.016\n",
              "((H, H), (1, 4)) 0.01\n",
              "((H, H), (1, 5)) 0.01\n",
              "((H, H), (1, 6)) 0.006\n",
              "((H, H), (2, 1)) 0.016\n",
              "((H, H), (2, 2)) 0.01\n",
              "((H, H), (2, 3)) 0.01\n",
              "((H, H), (2, 4)) 0.004\n",
              "((H, H), (2, 5)) 0.002\n",
              "((H, H), (2, 6)) 0.002\n",
              "((H, H), (3, 1)) 0.006\n",
              "((H, H), (3, 2)) 0.006\n",
              "((H, H), (3, 3)) 0.008\n",
              "((H, H), (3, 4)) 0.008\n",
              "((H, H), (3, 5)) 0.004\n",
              "((H, H), (3, 6)) 0.008\n",
              "((H, H), (4, 1)) 0.004\n",
              "................ .....\n",
              "((T, T), (6, 6)) 0.002\n",
              "           Total 1.0000000000000007"
            ]
          },
          "metadata": {},
          "execution_count": 60
        }
      ]
    },
    {
      "cell_type": "markdown",
      "source": [
        "## Count\n",
        "You can count the number of simulated outcomes equal to a particular value using `count_eq()`."
      ],
      "metadata": {
        "id": "aL0DU-X1DZ0p"
      }
    },
    {
      "cell_type": "code",
      "source": [
        "BoxModel(['H','T']).sim(1000).count_eq('H')"
      ],
      "metadata": {
        "colab": {
          "base_uri": "https://localhost:8080/"
        },
        "id": "Q4rDo0O9DqPe",
        "outputId": "ffcbdb78-d020-4b17-9091-82190c5c5ee4"
      },
      "execution_count": null,
      "outputs": [
        {
          "output_type": "execute_result",
          "data": {
            "text/plain": [
              "482"
            ]
          },
          "metadata": {},
          "execution_count": 61
        }
      ]
    },
    {
      "cell_type": "markdown",
      "source": [
        "> Example. Ten cards labeled 1, 2,  … , 10 are shuffled and dealt one at a time. Find the the probability that the number on the card matches its position in the deal for at least one of the cards. (For example, a match occurs if card 3 is the third card dealt.)"
      ],
      "metadata": {
        "id": "aKO61SBtDsQM"
      }
    },
    {
      "cell_type": "code",
      "source": [
        "# creating the probability space\n",
        "n = 10\n",
        "labels = list(range(n)) # remember, Python starts the index at 0, so the cards are labebeled 0, ..., 9\n",
        "P = BoxModel(labels, size = n, replace = False)"
      ],
      "metadata": {
        "id": "QCq_idT8EOP8"
      },
      "execution_count": null,
      "outputs": []
    },
    {
      "cell_type": "code",
      "source": [
        "# creating a simulation\n",
        "sims = P.sim(10000)\n",
        "sims"
      ],
      "metadata": {
        "colab": {
          "base_uri": "https://localhost:8080/",
          "height": 273
        },
        "id": "la0Mbv_uERlJ",
        "outputId": "b12b5de8-0efc-44fd-95d7-0a048a9e6a89"
      },
      "execution_count": null,
      "outputs": [
        {
          "output_type": "execute_result",
          "data": {
            "text/html": [
              "\n",
              "    <table>\n",
              "      <thead>\n",
              "        <th width=\"10%\">Index</th>\n",
              "        <th width=\"90%\">Result</th>\n",
              "      </thead>\n",
              "      <tbody>\n",
              "        \n",
              "        <tr>\n",
              "          <td>0</td><td>(1, 9, 6, 0, 5, ..., 3)</td>\n",
              "        </tr>\n",
              "        \n",
              "        <tr>\n",
              "          <td>1</td><td>(2, 8, 9, 6, 3, ..., 5)</td>\n",
              "        </tr>\n",
              "        \n",
              "        <tr>\n",
              "          <td>2</td><td>(5, 6, 0, 1, 9, ..., 8)</td>\n",
              "        </tr>\n",
              "        \n",
              "        <tr>\n",
              "          <td>3</td><td>(1, 7, 2, 8, 4, ..., 6)</td>\n",
              "        </tr>\n",
              "        \n",
              "        <tr>\n",
              "          <td>4</td><td>(6, 7, 4, 3, 5, ..., 1)</td>\n",
              "        </tr>\n",
              "        \n",
              "        <tr>\n",
              "          <td>5</td><td>(9, 1, 5, 6, 0, ..., 3)</td>\n",
              "        </tr>\n",
              "        \n",
              "        <tr>\n",
              "          <td>6</td><td>(6, 8, 9, 1, 5, ..., 7)</td>\n",
              "        </tr>\n",
              "        \n",
              "        <tr>\n",
              "          <td>7</td><td>(5, 1, 6, 4, 3, ..., 7)</td>\n",
              "        </tr>\n",
              "        \n",
              "        <tr>\n",
              "          <td>8</td><td>(0, 6, 9, 7, 1, ..., 8)</td>\n",
              "        </tr>\n",
              "        <tr><td>...</td><td>...</td></tr>\n",
              "        <tr>\n",
              "          <td>9999</td><td>(5, 6, 7, 0, 8, ..., 2)</td>\n",
              "        </tr>\n",
              "        \n",
              "      </tbody>\n",
              "    </table>\n",
              "        "
            ],
            "text/plain": [
              "Index Result\n",
              "0     (1, 9, 6, 0, 5, ..., 3)\n",
              "1     (2, 8, 9, 6, 3, ..., 5)\n",
              "2     (5, 6, 0, 1, 9, ..., 8)\n",
              "3     (1, 7, 2, 8, 4, ..., 6)\n",
              "4     (6, 7, 4, 3, 5, ..., 1)\n",
              "5     (9, 1, 5, 6, 0, ..., 3)\n",
              "6     (6, 8, 9, 1, 5, ..., 7)\n",
              "7     (5, 1, 6, 4, 3, ..., 7)\n",
              "8     (0, 6, 9, 7, 1, ..., 8)\n",
              "....  .......................\n",
              "9999  (5, 6, 7, 0, 8, ..., 2)"
            ]
          },
          "metadata": {},
          "execution_count": 63
        }
      ]
    },
    {
      "cell_type": "code",
      "source": [
        "# defining a function to identify match\n",
        "\n",
        "def is_match(x):\n",
        "    for i in range(n):\n",
        "        if x[i] == labels[i]:\n",
        "            return 'At least one match'\n",
        "    return 'No match'"
      ],
      "metadata": {
        "id": "uNyRhxMbEiRM"
      },
      "execution_count": null,
      "outputs": []
    },
    {
      "cell_type": "code",
      "source": [
        "# apply this function to create probability distribution\n",
        "sims.apply(is_match).tabulate(normalize=True)"
      ],
      "metadata": {
        "colab": {
          "base_uri": "https://localhost:8080/",
          "height": 104
        },
        "id": "sZ7zWWN0Ej7X",
        "outputId": "da5b6a66-3e16-4248-c470-8febf35f10e5"
      },
      "execution_count": null,
      "outputs": [
        {
          "output_type": "execute_result",
          "data": {
            "text/html": [
              "\n",
              "<table>\n",
              "  <thead>\n",
              "    <th width=\"80%\">Outcome</th>\n",
              "    <th width=\"20%\">Relative Frequency</th>\n",
              "  </thead>\n",
              "  <tbody>\n",
              "    <tr><td>At least one match</td><td>0.6354</td></tr><tr><td>No match</td><td>0.3646</td></tr><tr><td><b>Total</b></td><td><b>1.0</b></td></tr>\n",
              "  </tbody>\n",
              "</table>\n"
            ],
            "text/plain": [
              "Outcome            Relative Frequency\n",
              "At least one match 0.6354\n",
              "No match           0.3646\n",
              "             Total 1.0"
            ]
          },
          "metadata": {},
          "execution_count": 65
        }
      ]
    }
  ]
}