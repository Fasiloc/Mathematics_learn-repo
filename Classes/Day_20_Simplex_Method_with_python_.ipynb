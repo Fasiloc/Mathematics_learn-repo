{
  "nbformat": 4,
  "nbformat_minor": 0,
  "metadata": {
    "colab": {
      "provenance": [],
      "authorship_tag": "ABX9TyMErS6N/vsxCKGU+i2YdVJm",
      "include_colab_link": true
    },
    "kernelspec": {
      "name": "python3",
      "display_name": "Python 3"
    },
    "language_info": {
      "name": "python"
    }
  },
  "cells": [
    {
      "cell_type": "markdown",
      "metadata": {
        "id": "view-in-github",
        "colab_type": "text"
      },
      "source": [
        "<a href=\"https://colab.research.google.com/github/Fasiloc/Mathematics_learn-repo/blob/main/Classes/Day_20_Simplex_Method_with_python_.ipynb\" target=\"_parent\"><img src=\"https://colab.research.google.com/assets/colab-badge.svg\" alt=\"Open In Colab\"/></a>"
      ]
    },
    {
      "cell_type": "markdown",
      "source": [
        "# `Python` Method to Solve LPP using simplex method\n",
        "\n",
        "Linear Programming is the simplex matrix method to solve a linear constrained optimization problem. Linear programming (also referred as LP) is an operations research technique used when all the objectives and constraints are linear (in the variables) and when all the decision variables are continuous. In hierarchy, linear programming could be considered as the easiest operations research technique."
      ],
      "metadata": {
        "id": "vpkC3RuM4lf1"
      }
    },
    {
      "cell_type": "markdown",
      "source": [
        "## Modelling an LPP in `Python`\n",
        "\n",
        "Python’s `SciPy` library contains the `linprog` function to solve linear programming problems. While using `linprog`, there are two considerations to be taken into account while writing the code:\n",
        "1. The problem must be formulated as a minimization problem\n",
        "2. The inequalities must be expressed as ≤"
      ],
      "metadata": {
        "id": "jq0WtN_d5esa"
      }
    },
    {
      "cell_type": "markdown",
      "source": [
        "## Solving a minimization problem\n",
        "\n",
        "Minimization Problem\n",
        "Let’s consider the following minimization problem to be solved:\n",
        "$$ \\text{Minimize}\\quad z=10x_1+15x_2+25x_3$$\n",
        "Subject to the constraints:\n",
        "\\begin{array}{lcl}\n",
        "x_1+x_2+x_3&\\geq& 1000\\\\\n",
        "x_1-2x_2&\\geq& 0\\\\\n",
        "x_3&\\geq&340\\\\ \n",
        "x_1,x_2,x_3&\\geq &0\n",
        "\\end{array}"
      ],
      "metadata": {
        "id": "5xa810OC5qy9"
      }
    },
    {
      "cell_type": "markdown",
      "source": [
        "# Solution Procedure\n",
        "\n",
        "**Step 1:** Loading required libraries"
      ],
      "metadata": {
        "id": "_7tuH8oP5uoY"
      }
    },
    {
      "cell_type": "code",
      "execution_count": null,
      "metadata": {
        "id": "X-Jciwta-TEo"
      },
      "outputs": [],
      "source": [
        "import numpy as np\n",
        "from scipy.optimize import linprog"
      ]
    },
    {
      "cell_type": "markdown",
      "source": [
        "**Step 2:** Create the LPP model in `Python`"
      ],
      "metadata": {
        "id": "zcuBfwXF6qIk"
      }
    },
    {
      "cell_type": "code",
      "source": [
        "# assigning the coefficient matrix to A after converting all constraints to less than or equal type\n",
        "A = np.array([[-1, -1, -1], [-1, 2, 0], [0, 0, -1], [-1, 0, 0], [0, -1, 0], [0, 0, -1]])\n",
        "\n",
        "# Set the cnstants of RHS of constraint to b\n",
        "b = np.array([-1000, 0, -340, 0, 0, 0])\n",
        "\n",
        "# Set the coefficients of the linear objective function vector\n",
        "c = np.array([10, 15, 25])"
      ],
      "metadata": {
        "id": "bBr6I8GE61be"
      },
      "execution_count": null,
      "outputs": []
    },
    {
      "cell_type": "markdown",
      "source": [
        "**Step 3:** Solution of the problem by invoking solver function."
      ],
      "metadata": {
        "id": "1p3QRdrS6-Pl"
      }
    },
    {
      "cell_type": "code",
      "source": [
        "# Solve linear programming problem\n",
        "res = linprog(c, A_ub=A, b_ub=b)"
      ],
      "metadata": {
        "colab": {
          "base_uri": "https://localhost:8080/"
        },
        "id": "T19RTsT37Col",
        "outputId": "175f94e4-a815-4576-f5d4-8e55c79eed6e"
      },
      "execution_count": null,
      "outputs": [
        {
          "output_type": "stream",
          "name": "stderr",
          "text": [
            "/usr/local/lib/python3.7/dist-packages/numpy/core/fromnumeric.py:87: VisibleDeprecationWarning: Creating an ndarray from ragged nested sequences (which is a list-or-tuple of lists-or-tuples-or ndarrays with different lengths or shapes) is deprecated. If you meant to do this, you must specify 'dtype=object' when creating the ndarray\n",
            "  return ufunc.reduce(obj, axis, dtype, out, **passkwargs)\n"
          ]
        }
      ]
    },
    {
      "cell_type": "markdown",
      "source": [
        "**Step 4:** Display the output."
      ],
      "metadata": {
        "id": "Kkcs5lkK7KRM"
      }
    },
    {
      "cell_type": "code",
      "source": [
        "# Print results\n",
        "print('Optimal value:', round(res.fun, ndigits=2),\n",
        "      '\\nx values:', res.x,\n",
        "      '\\nNumber of iterations performed:', res.nit,\n",
        "      '\\nStatus:', res.message)"
      ],
      "metadata": {
        "colab": {
          "base_uri": "https://localhost:8080/"
        },
        "id": "B_W250r77OeE",
        "outputId": "4c800f19-e93e-494c-f3d2-f93735ad524f"
      },
      "execution_count": null,
      "outputs": [
        {
          "output_type": "stream",
          "name": "stdout",
          "text": [
            "Optimal value: 15100.0 \n",
            "x values: [6.59999996e+02 1.00009440e-07 3.40000000e+02] \n",
            "Number of iterations performed: 7 \n",
            "Status: Optimization terminated successfully.\n"
          ]
        }
      ]
    },
    {
      "cell_type": "markdown",
      "source": [
        "## Solving Maximization Problem\n",
        "\n",
        "Since the `linprog` function from Python’s `SciPy` library is programmed to solve minimization problems, it is necessary to perform a transformation to the original objective function. Every maximization problem can be transformed into a minimization problem my multiplying the coefficients of the objective function by $-1$ (i.e. by changing their signs)."
      ],
      "metadata": {
        "id": "jNTlKls37qp6"
      }
    },
    {
      "cell_type": "markdown",
      "source": [
        "** Example:** \n",
        "\n",
        "$$\\text{ Maximize}\\quad z=5x_1+7x_2$$\n",
        "\n",
        "Subject to the constraints:\n",
        " \n",
        " \\begin{array}{lcl}\n",
        "x_1&\\leq&16\\\\ \n",
        "2x_1+3x_2&\\leq & 19\\\\ \n",
        "x_1+x_2&\\leq& 8\\\\ \n",
        "x_1,x_2&\\geq&0\n",
        " \\end{array}"
      ],
      "metadata": {
        "id": "8zvb_FzD8U7p"
      }
    },
    {
      "cell_type": "code",
      "source": [
        "# Set the inequality constraints matrix\n",
        "# Note: the inequality constraints must be in the form of <=\n",
        "A = np.array([[1, 0], [2, 3], [1, 1], [-1, 0], [0, -1]])\n",
        "\n",
        "# Set the inequality constraints vector\n",
        "b = np.array([16, 19, 8, 0, 0])\n",
        "\n",
        "# Set the coefficients of the linear objective function vector\n",
        "# Note: when maximizing, change the signs of the c vector coefficient\n",
        "c = np.array([-5, -7])\n"
      ],
      "metadata": {
        "id": "__sf_sJY8X1t"
      },
      "execution_count": null,
      "outputs": []
    },
    {
      "cell_type": "code",
      "source": [
        "# Solve linear programming problem\n",
        "res = linprog(c, A_ub=A, b_ub=b)"
      ],
      "metadata": {
        "colab": {
          "base_uri": "https://localhost:8080/"
        },
        "id": "EIA2ID9X8fyA",
        "outputId": "3f3aa6da-778c-4523-92fc-8e38b2aaf8a0"
      },
      "execution_count": null,
      "outputs": [
        {
          "output_type": "stream",
          "name": "stderr",
          "text": [
            "/usr/local/lib/python3.7/dist-packages/numpy/core/fromnumeric.py:87: VisibleDeprecationWarning: Creating an ndarray from ragged nested sequences (which is a list-or-tuple of lists-or-tuples-or ndarrays with different lengths or shapes) is deprecated. If you meant to do this, you must specify 'dtype=object' when creating the ndarray\n",
            "  return ufunc.reduce(obj, axis, dtype, out, **passkwargs)\n"
          ]
        }
      ]
    },
    {
      "cell_type": "code",
      "source": [
        "# Print results\n",
        "print('Optimal value:', round(res.fun*-1, ndigits=2),\n",
        "      '\\nx values:', res.x,\n",
        "      '\\nNumber of iterations performed:', res.nit,\n",
        "      '\\nStatus:', res.message)"
      ],
      "metadata": {
        "colab": {
          "base_uri": "https://localhost:8080/"
        },
        "id": "F4qVWaZy8jG7",
        "outputId": "f3d12045-9265-4050-c54e-b9d2e6de78eb"
      },
      "execution_count": null,
      "outputs": [
        {
          "output_type": "stream",
          "name": "stdout",
          "text": [
            "Optimal value: 46.0 \n",
            "x values: [5. 3.] \n",
            "Number of iterations performed: 5 \n",
            "Status: Optimization terminated successfully.\n"
          ]
        }
      ]
    },
    {
      "cell_type": "markdown",
      "source": [
        "## Model formulation\n",
        "\n",
        "A mathematical model of the given problem can be written as: \n",
        "\n",
        "$$\\text{Minimize} \\quad z=x_1+2.5x_2+3y_1+5y_2+0.5z_1+1.5z_2+4w_1+2.5w_2$$\n",
        "\n",
        "Subject to the constraints: \n",
        "\n",
        "\\begin{array}{lcl}\n",
        "x_1+y_1+z_1+w_1&\\leq& 60000\\\\ \n",
        "x_2+y_2+z_2+w_2&\\leq &80000\\\\ \n",
        "x_1+x_2&\\geq& 35000\\\\ \n",
        "y_1+y_2&\\geq& 22000\\\\ \n",
        "z_1+z_2&\\geq&18000\\\\ \n",
        "w_1+w_2&\\geq&30000\\\\ \n",
        "x_1,x_2,y_1,y_2,z_1,z_2,w_1,w_2&\\geq& 0\n",
        "\\end{array}\n"
      ],
      "metadata": {
        "id": "mIaUZ8u384TX"
      }
    },
    {
      "cell_type": "code",
      "source": [
        "# Set the inequality constraints matrix\n",
        "# Note: the inequality constraints must be in the form of <=\n",
        "A = np.array([[1, 0, 1, 0, 1, 0, 1, 0], [0,1,0,1,0,1,0,1], [-1,-1,0,0,0,0,0,0], [0,0,-1,-1,0,0,0,0], [0,0,0,0,-1,-1,0,0],[0,0,0,0,0,0,-1,-1] ])\n",
        "\n",
        "# Set the inequality constraints vector\n",
        "b = np.array([60000, 80000, -35000, -22000, -18000,-30000])\n",
        "\n",
        "# Set the coefficients of the linear objective function vector\n",
        "# Note: when maximizing, change the signs of the c vector coefficient\n",
        "c = np.array([1,2.5,3,5,0.5,1.5,4,2.5])\n"
      ],
      "metadata": {
        "id": "tdUQ8gPc97Ee"
      },
      "execution_count": null,
      "outputs": []
    },
    {
      "cell_type": "code",
      "source": [
        "# Solve linear programming problem\n",
        "res = linprog(c, A_ub=A, b_ub=b,method=\"revised simplex\")"
      ],
      "metadata": {
        "id": "IqN91M5x-Owu"
      },
      "execution_count": null,
      "outputs": []
    },
    {
      "cell_type": "code",
      "source": [
        "# Print results\n",
        "print('Optimal value:', round(res.fun, ndigits=2),\n",
        "      '\\nx values:', res.x,\n",
        "      '\\nNumber of iterations performed:', res.nit,\n",
        "      '\\nStatus:', res.message)"
      ],
      "metadata": {
        "colab": {
          "base_uri": "https://localhost:8080/"
        },
        "id": "3n9KUgP6-Whj",
        "outputId": "8967e846-dcc2-4f7a-85fb-6b1860ab5506"
      },
      "execution_count": null,
      "outputs": [
        {
          "output_type": "stream",
          "name": "stdout",
          "text": [
            "Optimal value: 200000.0 \n",
            "x values: [35000.     0. 22000.     0.  3000. 15000.     0. 30000.] \n",
            "Number of iterations performed: 9 \n",
            "Status: Optimization terminated successfully.\n"
          ]
        }
      ]
    },
    {
      "cell_type": "markdown",
      "source": [
        "**Question 2:**"
      ],
      "metadata": {
        "id": "yrNS2yN0BJ6l"
      }
    },
    {
      "cell_type": "code",
      "source": [
        "# Set the inequality constraints matrix\n",
        "# Note: the inequality constraints must be in the form of <=\n",
        "A = np.array([[-2, -1, -1],[-1,-1,-1],[-1,-2,-1],[-1,0,0],[0,-1,0],[0,0,-1]])\n",
        "\n",
        "# Set the inequality constraints vector\n",
        "b = np.array([-30,-20,-24,0,0,0])\n",
        "\n",
        "# Set the coefficients of the linear objective function vector\n",
        "# Note: when maximizing, change the signs of the c vector coefficient\n",
        "c = np.array([20,28,18])\n"
      ],
      "metadata": {
        "id": "43XJfK9i_C0T"
      },
      "execution_count": null,
      "outputs": []
    },
    {
      "cell_type": "code",
      "source": [
        "# Solve linear programming problem\n",
        "res = linprog(c, A_ub=A, b_ub=b,method=\"revised simplex\")"
      ],
      "metadata": {
        "id": "9LkOKvaU_F-c"
      },
      "execution_count": null,
      "outputs": []
    },
    {
      "cell_type": "code",
      "source": [
        "# Print results\n",
        "print('Optimal value:', round(res.fun, ndigits=2),\n",
        "      '\\nx values:', res.x,\n",
        "      '\\nNumber of iterations performed:', res.nit,\n",
        "      '\\nStatus:', res.message)"
      ],
      "metadata": {
        "colab": {
          "base_uri": "https://localhost:8080/"
        },
        "id": "QHrdDFGN_AnD",
        "outputId": "764c8bbe-dacc-4338-fe77-d448afa34c07"
      },
      "execution_count": null,
      "outputs": [
        {
          "output_type": "stream",
          "name": "stdout",
          "text": [
            "Optimal value: 420.0 \n",
            "x values: [10.  4.  6.] \n",
            "Number of iterations performed: 4 \n",
            "Status: Optimization terminated successfully.\n"
          ]
        }
      ]
    }
  ]
}