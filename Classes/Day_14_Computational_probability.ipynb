{
  "nbformat": 4,
  "nbformat_minor": 0,
  "metadata": {
    "colab": {
      "provenance": [],
      "authorship_tag": "ABX9TyP8/EUXvptOK4s/ZD5piu06",
      "include_colab_link": true
    },
    "kernelspec": {
      "name": "python3",
      "display_name": "Python 3"
    },
    "language_info": {
      "name": "python"
    }
  },
  "cells": [
    {
      "cell_type": "markdown",
      "metadata": {
        "id": "view-in-github",
        "colab_type": "text"
      },
      "source": [
        "<a href=\"https://colab.research.google.com/github/Fasiloc/Mathematics_learn-repo/blob/main/Classes/Day_14_Computational_probability.ipynb\" target=\"_parent\"><img src=\"https://colab.research.google.com/assets/colab-badge.svg\" alt=\"Open In Colab\"/></a>"
      ]
    },
    {
      "cell_type": "markdown",
      "source": [
        "#Role of Probability in Machine Learning\n",
        ">Probability is the bedrock of machine learning. You cannot develop a deep understanding and application of machine learning without it.\n",
        "\n",
        "## Corner pillers of Probability for Machine Learning\n",
        "\n",
        "- Probability distributions\n",
        "- random variables\n",
        "- Bayes Theorem\n",
        "- Bayesian Statistics"
      ],
      "metadata": {
        "id": "luK7vC1_Wypz"
      }
    },
    {
      "cell_type": "markdown",
      "source": [
        "## Implementing Basic probability distributions in Python\n",
        "As a transition from classical probability to computational probability, lets us implement important theoretical distributions in python"
      ],
      "metadata": {
        "id": "-edzPtQJX_hw"
      }
    },
    {
      "cell_type": "markdown",
      "source": [
        "##Loading libraries for computational probability in python"
      ],
      "metadata": {
        "id": "KuusfAHzYPDv"
      }
    },
    {
      "cell_type": "code",
      "execution_count": null,
      "metadata": {
        "id": "rY6SVhheQuYC"
      },
      "outputs": [],
      "source": [
        "# for inline plots in jupyter\n",
        "%matplotlib inline\n",
        "# import matplotlib\n",
        "import matplotlib.pyplot as plt\n",
        "# for latex equations\n",
        "from IPython.display import Math, Latex\n",
        "# for displaying images\n",
        "from IPython.core.display import Image\n",
        "# import seaborn\n",
        "import seaborn as sns\n",
        "# settings for seaborn plotting style\n",
        "sns.set(color_codes=True)\n",
        "# settings for seaborn plot sizes\n",
        "sns.set(rc={'figure.figsize':(5,5)})"
      ]
    },
    {
      "cell_type": "markdown",
      "source": [
        "### 1. Uniform Distribution\n",
        "Perhaps one of the simplest and useful distribution is the uniform distribution. The probability distribution function of the continuous uniform distribution is:\n",
        "\n",
        "$$f(x)=\\begin{cases}\\dfrac{1}{b-a};\\quad a\\leq x\\leq b\\\\ 0&;\\quad \\text{ otherwise}\\end{cases}$$"
      ],
      "metadata": {
        "id": "AfIraCEZYtyv"
      }
    },
    {
      "cell_type": "code",
      "source": [
        "# import uniform distribution\n",
        "from scipy.stats import uniform\n",
        "# random numbers from uniform distribution\n",
        "n = 10000\n",
        "start = 10\n",
        "width = 20\n",
        "data_uniform = uniform.rvs(size=n, loc = start, scale=width)"
      ],
      "metadata": {
        "id": "_LYXgxGGZ_if"
      },
      "execution_count": null,
      "outputs": []
    },
    {
      "cell_type": "code",
      "source": [
        "ax = sns.distplot(data_uniform,\n",
        "                  bins=100,\n",
        "                  kde=True,\n",
        "                  color='skyblue',\n",
        "                  hist_kws={\"linewidth\": 15,'alpha':0.9})\n",
        "ax.set(xlabel='Uniform Distribution ', ylabel='Frequency')"
      ],
      "metadata": {
        "colab": {
          "base_uri": "https://localhost:8080/",
          "height": 360
        },
        "id": "7UoO0OfXakYk",
        "outputId": "2d9a9ad0-998f-433b-e481-d100917b1db6"
      },
      "execution_count": null,
      "outputs": [
        {
          "output_type": "stream",
          "name": "stderr",
          "text": [
            "/usr/local/lib/python3.7/dist-packages/seaborn/distributions.py:2619: FutureWarning: `distplot` is a deprecated function and will be removed in a future version. Please adapt your code to use either `displot` (a figure-level function with similar flexibility) or `histplot` (an axes-level function for histograms).\n",
            "  warnings.warn(msg, FutureWarning)\n"
          ]
        },
        {
          "output_type": "execute_result",
          "data": {
            "text/plain": [
              "[Text(0, 0.5, 'Frequency'), Text(0.5, 0, 'Uniform Distribution ')]"
            ]
          },
          "metadata": {},
          "execution_count": 3
        },
        {
          "output_type": "display_data",
          "data": {
            "image/png": "[encoded data removed]",
            "text/plain": [
              "<Figure size 432x288 with 1 Axes>"
            ]
          },
          "metadata": {
            "needs_background": "light"
          }
        }
      ]
    },
    {
      "cell_type": "markdown",
      "source": [
        "### 2. Normal Distribution\n",
        "Normal Distribution, also known as Gaussian distribution, is ubiquitous in Data Science. You will encounter it at many places especially in topics of statistical inference. It is one of the assumptions of many data science algorithms too.\n",
        "\n",
        "The probability distribution function of a normal density curve with mean μ and standard deviation σ at a given point x is given by:\n",
        "$$f(x)=\\dfrac{1}{\\sqrt{2\\pi}\\sigma}e^{-\\dfrac{(x-\\mu)^2}{2\\sigma^2}}$$\n",
        "\n",
        "Almost 68% of the data falls within a distance of one standard deviation from the mean on either side and 95% within two standard deviations. Also it worth mentioning that a distribution with mean 0 and standard deviation 1 is called a standard normal distribution."
      ],
      "metadata": {
        "id": "3FTK2mUPbpiQ"
      }
    },
    {
      "cell_type": "code",
      "source": [
        "from scipy.stats import norm\n",
        "# generate random numbers from N(0,1)\n",
        "data_normal = norm.rvs(size=10000,loc=0,scale=1)\n",
        "ax = sns.distplot(data_normal,\n",
        "                  bins=100,\n",
        "                  kde=True,\n",
        "                  color='skyblue',\n",
        "                  hist_kws={\"linewidth\": 15,'alpha':1})\n",
        "ax.set(xlabel='Normal Distribution', ylabel='Frequency')"
      ],
      "metadata": {
        "colab": {
          "base_uri": "https://localhost:8080/",
          "height": 360
        },
        "id": "WzdBE7FtbwuZ",
        "outputId": "e12a118d-1cdc-44b9-fa62-b31b998f4e7b"
      },
      "execution_count": null,
      "outputs": [
        {
          "output_type": "stream",
          "name": "stderr",
          "text": [
            "/usr/local/lib/python3.7/dist-packages/seaborn/distributions.py:2619: FutureWarning: `distplot` is a deprecated function and will be removed in a future version. Please adapt your code to use either `displot` (a figure-level function with similar flexibility) or `histplot` (an axes-level function for histograms).\n",
            "  warnings.warn(msg, FutureWarning)\n"
          ]
        },
        {
          "output_type": "execute_result",
          "data": {
            "text/plain": [
              "[Text(0, 0.5, 'Frequency'), Text(0.5, 0, 'Normal Distribution')]"
            ]
          },
          "metadata": {},
          "execution_count": 5
        },
        {
          "output_type": "display_data",
          "data": {
            "image/png": "[encoded data removed]",
            "text/plain": [
              "<Figure size 432x288 with 1 Axes>"
            ]
          },
          "metadata": {
            "needs_background": "light"
          }
        }
      ]
    },
    {
      "cell_type": "markdown",
      "source": [
        "### 3. Exponential Distribution\n",
        "The exponential distribution describes the time between events in a Poisson point process, i.e., a process in which events occur continuously and independently at a constant average rate. It has a parameter λ called rate parameter, and its equation is described as :\n",
        "$$f(x,\\lambda)=\\begin{cases}\\lambda e^{-\\lambda x}&;\\quad x\\geq 0\\\\ 0&;\\quad \\text{otherwise}\\end{cases}$$"
      ],
      "metadata": {
        "id": "OhafKUURdBzi"
      }
    },
    {
      "cell_type": "code",
      "source": [
        "from scipy.stats import expon\n",
        "data_expon = expon.rvs(scale=1,loc=0,size=1000)\n",
        "ax = sns.distplot(data_expon,\n",
        "                  kde=True,\n",
        "                  bins=100,\n",
        "                  color='skyblue',\n",
        "                  hist_kws={\"linewidth\": 15,'alpha':1})\n",
        "ax.set(xlabel='Exponential Distribution', ylabel='Frequency')"
      ],
      "metadata": {
        "colab": {
          "base_uri": "https://localhost:8080/",
          "height": 360
        },
        "id": "SSpHl-Z9dVXu",
        "outputId": "44ead58b-9b85-4d09-b366-716e983e2124"
      },
      "execution_count": null,
      "outputs": [
        {
          "output_type": "stream",
          "name": "stderr",
          "text": [
            "/usr/local/lib/python3.7/dist-packages/seaborn/distributions.py:2619: FutureWarning: `distplot` is a deprecated function and will be removed in a future version. Please adapt your code to use either `displot` (a figure-level function with similar flexibility) or `histplot` (an axes-level function for histograms).\n",
            "  warnings.warn(msg, FutureWarning)\n"
          ]
        },
        {
          "output_type": "execute_result",
          "data": {
            "text/plain": [
              "[Text(0, 0.5, 'Frequency'), Text(0.5, 0, 'Exponential Distribution')]"
            ]
          },
          "metadata": {},
          "execution_count": 6
        },
        {
          "output_type": "display_data",
          "data": {
            "image/png": "[encoded data removed]",
            "text/plain": [
              "<Figure size 432x288 with 1 Axes>"
            ]
          },
          "metadata": {
            "needs_background": "light"
          }
        }
      ]
    },
    {
      "cell_type": "markdown",
      "source": [
        "### 4. Binomial Distribution\n",
        "A distribution where only two outcomes are possible, such as success or failure, gain or loss, win or lose and where the probability of success and failure is same for all the trials is called a Binomial Distribution. However, The outcomes need not be equally likely, and each trial is independent of each other. The parameters of a binomial distribution are n and p where n is the total number of trials, and p is the probability of success in each trial. Its probabilit\n",
        "\n",
        " distribution function is given by :\n",
        "\n",
        "$$p(x)=\\binom n x p^xq^{n-x}$$"
      ],
      "metadata": {
        "id": "4k_MrVtzeDNn"
      }
    },
    {
      "cell_type": "code",
      "source": [
        "from scipy.stats import binom\n",
        "data_binom = binom.rvs(n=10,p=0.8,size=100)\n",
        "ax = sns.distplot(data_binom,\n",
        "                  kde=False,\n",
        "                  color='skyblue',\n",
        "                  hist_kws={\"linewidth\": 15,'alpha':1})\n",
        "ax.set(xlabel='Binomial Distribution', ylabel='Frequency')"
      ],
      "metadata": {
        "colab": {
          "base_uri": "https://localhost:8080/",
          "height": 360
        },
        "id": "5Qj5_6cZeb7u",
        "outputId": "5a04bc30-5c95-43d2-e869-9b618593e7de"
      },
      "execution_count": null,
      "outputs": [
        {
          "output_type": "stream",
          "name": "stderr",
          "text": [
            "/usr/local/lib/python3.7/dist-packages/seaborn/distributions.py:2619: FutureWarning: `distplot` is a deprecated function and will be removed in a future version. Please adapt your code to use either `displot` (a figure-level function with similar flexibility) or `histplot` (an axes-level function for histograms).\n",
            "  warnings.warn(msg, FutureWarning)\n"
          ]
        },
        {
          "output_type": "execute_result",
          "data": {
            "text/plain": [
              "[Text(0, 0.5, 'Frequency'), Text(0.5, 0, 'Binomial Distribution')]"
            ]
          },
          "metadata": {},
          "execution_count": 7
        },
        {
          "output_type": "display_data",
          "data": {
            "image/png": "[encoded data removed]",
            "text/plain": [
              "<Figure size 432x288 with 1 Axes>"
            ]
          },
          "metadata": {
            "needs_background": "light"
          }
        }
      ]
    },
    {
      "cell_type": "markdown",
      "source": [
        "### 5. Poisson Distribution\n",
        "Poisson random variable is typically used to model the number of times an event happened in a time interval.\n",
        "\n",
        "$$p(x)=\\dfrac{e^{-\\lambda} \\lambda ^x}{x!}$$\n"
      ],
      "metadata": {
        "id": "DSnQKgmyghrs"
      }
    },
    {
      "cell_type": "code",
      "source": [
        "from scipy.stats import poisson\n",
        "data_poisson = poisson.rvs(mu=3, size=10000)\n",
        "ax = sns.distplot(data_poisson,\n",
        "                  bins=30,\n",
        "                  kde=False,\n",
        "                  color='skyblue',\n",
        "                  hist_kws={\"linewidth\": 15,'alpha':1})\n",
        "ax.set(xlabel='Poisson Distribution', ylabel='Frequency')"
      ],
      "metadata": {
        "colab": {
          "base_uri": "https://localhost:8080/",
          "height": 360
        },
        "id": "ImLAceDhgpZx",
        "outputId": "9d5db240-391b-4da1-b72d-88e0332837e4"
      },
      "execution_count": null,
      "outputs": [
        {
          "output_type": "stream",
          "name": "stderr",
          "text": [
            "/usr/local/lib/python3.7/dist-packages/seaborn/distributions.py:2619: FutureWarning: `distplot` is a deprecated function and will be removed in a future version. Please adapt your code to use either `displot` (a figure-level function with similar flexibility) or `histplot` (an axes-level function for histograms).\n",
            "  warnings.warn(msg, FutureWarning)\n"
          ]
        },
        {
          "output_type": "execute_result",
          "data": {
            "text/plain": [
              "[Text(0, 0.5, 'Frequency'), Text(0.5, 0, 'Poisson Distribution')]"
            ]
          },
          "metadata": {},
          "execution_count": 8
        },
        {
          "output_type": "display_data",
          "data": {
            "image/png": "[encoded data removed]",
            "text/plain": [
              "<Figure size 432x288 with 1 Axes>"
            ]
          },
          "metadata": {
            "needs_background": "light"
          }
        }
      ]
    },
    {
      "cell_type": "markdown",
      "source": [
        "### 6. Bernoulli Distribution\n",
        "A Bernoulli distribution has only two possible outcomes, namely 1 (success) and 0 (failure), and a single trial, for example, a coin toss. \n",
        "$$f(x,k)=p^kq^{1-k}\\quad ; k\\in \\{0,1\\}$$"
      ],
      "metadata": {
        "id": "6lgmTkJyhnuB"
      }
    },
    {
      "cell_type": "code",
      "source": [
        "from scipy.stats import bernoulli\n",
        "data_bern = bernoulli.rvs(size=10000,p=0.6)\n",
        "ax= sns.distplot(data_bern,\n",
        "                 kde=False,\n",
        "                 color=\"skyblue\",\n",
        "                 hist_kws={\"linewidth\": 15,'alpha':1})\n",
        "ax.set(xlabel='Bernoulli Distribution', ylabel='Frequency')"
      ],
      "metadata": {
        "colab": {
          "base_uri": "https://localhost:8080/",
          "height": 360
        },
        "id": "3jMli1uRhq-x",
        "outputId": "db628257-3b61-4566-b7c0-d3c08d6d4c67"
      },
      "execution_count": null,
      "outputs": [
        {
          "output_type": "stream",
          "name": "stderr",
          "text": [
            "/usr/local/lib/python3.7/dist-packages/seaborn/distributions.py:2619: FutureWarning: `distplot` is a deprecated function and will be removed in a future version. Please adapt your code to use either `displot` (a figure-level function with similar flexibility) or `histplot` (an axes-level function for histograms).\n",
            "  warnings.warn(msg, FutureWarning)\n"
          ]
        },
        {
          "output_type": "execute_result",
          "data": {
            "text/plain": [
              "[Text(0, 0.5, 'Frequency'), Text(0.5, 0, 'Bernoulli Distribution')]"
            ]
          },
          "metadata": {},
          "execution_count": 9
        },
        {
          "output_type": "display_data",
          "data": {
            "image/png": "[encoded data removed]",
            "text/plain": [
              "<Figure size 432x288 with 1 Axes>"
            ]
          },
          "metadata": {
            "needs_background": "light"
          }
        }
      ]
    },
    {
      "cell_type": "markdown",
      "source": [
        "## Calculating probability density at fixed points "
      ],
      "metadata": {
        "id": "oy7mC8h2lF3U"
      }
    },
    {
      "cell_type": "markdown",
      "source": [
        "### 1. Binomial distribution"
      ],
      "metadata": {
        "id": "xrjWqdeDlLob"
      }
    },
    {
      "cell_type": "code",
      "source": [
        "#from scipy.stats import binom\n",
        "# setting the values\n",
        "# of n and p\n",
        "n = 6\n",
        "p = 0.6\n",
        "# defining the list of r values\n",
        "r_values = list(range(n + 1))\n",
        "# obtaining the mean and variance \n",
        "mean, var = binom.stats(n, p)\n",
        "# list of pmf values\n",
        "dist = [binom.pmf(r, n, p) for r in r_values ]\n",
        "# printing the table\n",
        "print(\"r\\tp(r)\")\n",
        "for i in range(n + 1):\n",
        "    print(str(r_values[i]) + \"\\t\" + str(dist[i]))\n",
        "# printing mean and variance\n",
        "print(\"mean = \"+str(mean))\n",
        "print(\"variance = \"+str(var))"
      ],
      "metadata": {
        "colab": {
          "base_uri": "https://localhost:8080/"
        },
        "id": "iaH3FI1KlGgA",
        "outputId": "edb24b1a-02f8-4a86-8ed9-91b5e231de01"
      },
      "execution_count": null,
      "outputs": [
        {
          "output_type": "stream",
          "name": "stdout",
          "text": [
            "r\tp(r)\n",
            "0\t0.004096000000000002\n",
            "1\t0.03686400000000005\n",
            "2\t0.13824000000000003\n",
            "3\t0.2764800000000001\n",
            "4\t0.31104\n",
            "5\t0.18662400000000007\n",
            "6\t0.04665599999999999\n",
            "mean = 3.5999999999999996\n",
            "variance = 1.44\n"
          ]
        }
      ]
    },
    {
      "cell_type": "markdown",
      "source": [
        "### Plotting the distribution with density"
      ],
      "metadata": {
        "id": "N9G-mUwNme8Q"
      }
    },
    {
      "cell_type": "code",
      "source": [
        "plt.bar(r_values, dist)\n",
        "plt.show()"
      ],
      "metadata": {
        "colab": {
          "base_uri": "https://localhost:8080/",
          "height": 268
        },
        "id": "P9fgWk8Nmg96",
        "outputId": "5d11a32f-a753-4372-9450-7928440218ef"
      },
      "execution_count": null,
      "outputs": [
        {
          "output_type": "display_data",
          "data": {
            "image/png": "[encoded data removed]",
            "text/plain": [
              "<Figure size 432x288 with 1 Axes>"
            ]
          },
          "metadata": {
            "needs_background": "light"
          }
        }
      ]
    },
    {
      "cell_type": "markdown",
      "source": [
        "Q. Probability for winning a game is 0.3. If John play the game 25 times, what will be the chance that he will win the game atleast 7 times."
      ],
      "metadata": {
        "id": "rvDL7Kjgmzqu"
      }
    },
    {
      "cell_type": "code",
      "source": [
        "from scipy.stats import binom\n",
        "p=0.3\n",
        "k=6\n",
        "n=25\n",
        "prob_L7=binom.cdf(k=k,n=n,p=p)\n",
        "print(\"chance for at least 7 win :\",(1-prob_L7)*100)\n"
      ],
      "metadata": {
        "colab": {
          "base_uri": "https://localhost:8080/"
        },
        "id": "BbbW8GjtmzJ4",
        "outputId": "8317b105-4466-4ee3-8139-fa8d55132b6d"
      },
      "execution_count": null,
      "outputs": [
        {
          "output_type": "stream",
          "name": "stdout",
          "text": [
            "chance for at least 7 win : 65.9345095720608\n"
          ]
        }
      ]
    },
    {
      "cell_type": "markdown",
      "source": [
        "Q. During war, 1 ship out of 9 was sunk on an average in making a certain\n",
        "voyage. What was the probability that exactly 3 out of a convoy of 6  ships would arrive safely?"
      ],
      "metadata": {
        "id": "vbMemIjmogjo"
      }
    },
    {
      "cell_type": "code",
      "source": [
        "binom.pmf(k=3,n=6,p=8/9)"
      ],
      "metadata": {
        "colab": {
          "base_uri": "https://localhost:8080/"
        },
        "id": "MY1J8yqpoqQ9",
        "outputId": "c8bdaffc-a1b1-431c-9b9f-3203112a8d00"
      },
      "execution_count": null,
      "outputs": [
        {
          "output_type": "execute_result",
          "data": {
            "text/plain": [
              "0.019268366573147365"
            ]
          },
          "metadata": {},
          "execution_count": 19
        }
      ]
    },
    {
      "cell_type": "markdown",
      "source": [
        "The probability of any ship of a company being destroyed on a certain voyage is 0.02. The company owns 6 ships for voyage. What is the probability of (i) losing one ship (ii) losing at most two ships(iii)losing none."
      ],
      "metadata": {
        "id": "Hzy5QwBPqCFO"
      }
    },
    {
      "cell_type": "code",
      "source": [
        "binom.pmf(k=1,n=6,p=0.2)\n"
      ],
      "metadata": {
        "colab": {
          "base_uri": "https://localhost:8080/"
        },
        "id": "N8GpNbCfqKAS",
        "outputId": "0d7f7dc3-7eff-4027-ba90-a4c9cc4fea84"
      },
      "execution_count": null,
      "outputs": [
        {
          "output_type": "execute_result",
          "data": {
            "text/plain": [
              "0.3932160000000002"
            ]
          },
          "metadata": {},
          "execution_count": 21
        }
      ]
    },
    {
      "cell_type": "code",
      "source": [
        "binom.cdf(k=2,n=6,p=0.2)\n"
      ],
      "metadata": {
        "colab": {
          "base_uri": "https://localhost:8080/"
        },
        "id": "Xb271yPJq6J1",
        "outputId": "cfa0f327-98d7-45d8-8103-45d98f47198a"
      },
      "execution_count": null,
      "outputs": [
        {
          "output_type": "execute_result",
          "data": {
            "text/plain": [
              "0.90112"
            ]
          },
          "metadata": {},
          "execution_count": 23
        }
      ]
    },
    {
      "cell_type": "code",
      "source": [
        "binom.pdf(k=2,n=6,p=0.2)"
      ],
      "metadata": {
        "id": "hlqpA1SBq8GK"
      },
      "execution_count": null,
      "outputs": []
    },
    {
      "cell_type": "markdown",
      "source": [
        "### 1. Poisson distribution"
      ],
      "metadata": {
        "id": "urvpztmBrRmQ"
      }
    },
    {
      "cell_type": "code",
      "source": [
        "from scipy.stats import poisson\n",
        "# setting the values\n",
        "# of n and p\n",
        "n = 6\n",
        "mu = 2\n",
        "# defining the list of r values\n",
        "r_values = list(range(n + 1))\n",
        "# obtaining the mean and variance \n",
        "mean, var = poisson.stats(n, mu)\n",
        "# list of pmf values\n",
        "dist = [poisson.pmf(k, n, mu) for k in r_values ]\n",
        "# printing the table\n",
        "print(\"k\\tp(k)\")\n",
        "for i in range(n + 1):\n",
        "    print(str(r_values[i]) + \"\\t\" + str(dist[i]))\n",
        "# printing mean and variance\n",
        "print(\"mean = \"+str(mean))\n",
        "print(\"variance = \"+str(var))"
      ],
      "metadata": {
        "colab": {
          "base_uri": "https://localhost:8080/"
        },
        "id": "yYRqq_jhrWkx",
        "outputId": "cfc02e67-f502-406b-c3e7-bb136cd4ada2"
      },
      "execution_count": null,
      "outputs": [
        {
          "output_type": "stream",
          "name": "stdout",
          "text": [
            "k\tp(k)\n",
            "0\t0.0\n",
            "1\t0.0\n",
            "2\t0.0024787521766663585\n",
            "3\t0.014872513059998144\n",
            "4\t0.04461753917999444\n",
            "5\t0.08923507835998894\n",
            "6\t0.13385261753998332\n",
            "mean = 8.0\n",
            "variance = 6.0\n"
          ]
        }
      ]
    },
    {
      "cell_type": "code",
      "source": [
        "poisson.cdf(k=5,     # Check the probability of 5 arrivals or less\n",
        "                  mu=10)   # With arrival rate 10"
      ],
      "metadata": {
        "colab": {
          "base_uri": "https://localhost:8080/"
        },
        "id": "dKPIB_EXr5_4",
        "outputId": "77e9466d-994b-4df3-87dc-d9b7dd37a612"
      },
      "execution_count": null,
      "outputs": [
        {
          "output_type": "execute_result",
          "data": {
            "text/plain": [
              "0.06708596287903189"
            ]
          },
          "metadata": {},
          "execution_count": 25
        }
      ]
    },
    {
      "cell_type": "markdown",
      "source": [
        "Q. If in a Covid vaccination center the average arrival rate is 10 person per hour. If the arrival rate exceeds 17 per hour, the authorities will start a second counter. What is the chance for a second counter under this situation."
      ],
      "metadata": {
        "id": "BXR7iOaLsJB5"
      }
    },
    {
      "cell_type": "code",
      "source": [
        "L17=poisson.cdf(k=17,mu=10)\n",
        "print((1-L17)*100)"
      ],
      "metadata": {
        "colab": {
          "base_uri": "https://localhost:8080/"
        },
        "id": "95_EPCPbsL0f",
        "outputId": "08a43242-1958-4820-bac7-395a1c2d65e2"
      },
      "execution_count": null,
      "outputs": [
        {
          "output_type": "stream",
          "name": "stdout",
          "text": [
            "1.427761359704971\n"
          ]
        }
      ]
    },
    {
      "cell_type": "markdown",
      "source": [
        "Q.A car-hire \n",
        "rm has two cars, which it hires out day by day. The number of demands for a car on each day is distributed as a Poisson distribution with mean 1.5. Calculate the proportion of days on which neither car is used and the proportion of days on which some demand is refused."
      ],
      "metadata": {
        "id": "MNkswhwgtgu4"
      }
    },
    {
      "cell_type": "code",
      "source": [
        "poisson.pmf(k=0,mu=1.5)"
      ],
      "metadata": {
        "colab": {
          "base_uri": "https://localhost:8080/"
        },
        "id": "bP0qyVUGtq_C",
        "outputId": "5bfc7a44-690f-4d23-9c67-3bb2b5625796"
      },
      "execution_count": null,
      "outputs": [
        {
          "output_type": "execute_result",
          "data": {
            "text/plain": [
              "0.22313016014842982"
            ]
          },
          "metadata": {},
          "execution_count": 32
        }
      ]
    },
    {
      "cell_type": "code",
      "source": [
        "poisson.pmf(k=2,mu=1.5)"
      ],
      "metadata": {
        "colab": {
          "base_uri": "https://localhost:8080/"
        },
        "id": "z0lc2gxpt4KM",
        "outputId": "1e8747c4-6416-4d67-d21f-864910f739fb"
      },
      "execution_count": null,
      "outputs": [
        {
          "output_type": "execute_result",
          "data": {
            "text/plain": [
              "0.25102143016698353"
            ]
          },
          "metadata": {},
          "execution_count": 33
        }
      ]
    },
    {
      "cell_type": "markdown",
      "source": [
        " If the probability of a bad reaction from a certain injection is 0.001, determine\n",
        "the chance that out of 2000 individuals more than two will get bad reaction."
      ],
      "metadata": {
        "id": "urlalvo8uwJQ"
      }
    },
    {
      "cell_type": "code",
      "source": [
        "p=0.001\n",
        "n=2000\n",
        "mu=2\n",
        "prob4=1-(poisson.cdf(k=2,mu=2))\n",
        "print(prob4)"
      ],
      "metadata": {
        "colab": {
          "base_uri": "https://localhost:8080/"
        },
        "id": "x2Nnf97nvA30",
        "outputId": "fdd70e47-c1aa-4b0a-d25e-b3605bd00433"
      },
      "execution_count": null,
      "outputs": [
        {
          "output_type": "stream",
          "name": "stdout",
          "text": [
            "0.3233235838169366\n"
          ]
        }
      ]
    },
    {
      "cell_type": "markdown",
      "source": [
        "### 3. Geometric distribution\n",
        "\n",
        "The geometric distribution is discrete and models the number of trials it takes to achieve a success in repeated experiments with a given probability of success. \n",
        "\n",
        "Let's use the `geom` functions to model the number of trials it takes to get a success (heads) when flipping a fair coin."
      ],
      "metadata": {
        "id": "RC1EpkYUvyJK"
      }
    },
    {
      "cell_type": "code",
      "source": [
        "import random\n",
        "import pandas as pd\n",
        "random.seed(12)\n",
        "from scipy.stats import geom\n",
        "flips_till_heads = geom.rvs(size=10000,  # Generate geometric data\n",
        "                                  p=0.5)       # With success prob 0.5\n",
        "# Print table of counts\n",
        "print( pd.crosstab(index=\"counts\", columns= flips_till_heads))\n",
        "\n",
        "# Plot histogram\n",
        "pd.DataFrame(flips_till_heads).hist(range=(-0.5,max(flips_till_heads)+0.5)\n",
        "                                    , bins=max(flips_till_heads)+1);\n"
      ],
      "metadata": {
        "colab": {
          "base_uri": "https://localhost:8080/",
          "height": 339
        },
        "id": "uA8VnvQBwH2y",
        "outputId": "bd8c9456-36ef-4234-b52c-93eb74749ea5"
      },
      "execution_count": null,
      "outputs": [
        {
          "output_type": "stream",
          "name": "stdout",
          "text": [
            "col_0     1     2     3    4    5    6   7   8   9   10  11  12  13  14  15\n",
            "row_0                                                                      \n",
            "counts  5025  2474  1254  616  312  176  73  35  11   9   6   5   1   2   1\n"
          ]
        },
        {
          "output_type": "display_data",
          "data": {
            "image/png": "[encoded data removed]",
            "text/plain": [
              "<Figure size 432x288 with 1 Axes>"
            ]
          },
          "metadata": {
            "needs_background": "light"
          }
        }
      ]
    },
    {
      "cell_type": "markdown",
      "source": [
        "The distribution looks similar to what we'd expect: it is very likely to get a heads in 1 or 2 flips, while it is very unlikely for it to take more than 5 flips to get a heads. In the 10,000 trails we generated, the longest it took to get a heads was 13 flips.\n",
        "\n",
        "Let's use cdf() to check the probability of needing 6 flips or more to get a success:"
      ],
      "metadata": {
        "id": "gB_f8b7wxcXh"
      }
    },
    {
      "cell_type": "code",
      "source": [
        "first_five = geom.cdf(k=5,   # Prob of success in first 5 flips\n",
        "                           p=0.5)\n",
        "\n",
        "1 - first_five"
      ],
      "metadata": {
        "colab": {
          "base_uri": "https://localhost:8080/"
        },
        "id": "8Q_Jkj9lxc9F",
        "outputId": "14b989c2-c684-4e86-f71a-172fd25ad7a4"
      },
      "execution_count": null,
      "outputs": [
        {
          "output_type": "execute_result",
          "data": {
            "text/plain": [
              "0.03125"
            ]
          },
          "metadata": {},
          "execution_count": 39
        }
      ]
    },
    {
      "cell_type": "markdown",
      "source": [
        "Use `pmf()` to check the probability of seeing a specific number of flips before a successes:"
      ],
      "metadata": {
        "id": "qgwYOncKx8Bq"
      }
    },
    {
      "cell_type": "code",
      "source": [
        "geom.pmf(k=2,   # Prob of needing exactly 2 flips to get first success\n",
        "              p=0.5)"
      ],
      "metadata": {
        "colab": {
          "base_uri": "https://localhost:8080/"
        },
        "id": "FU5S0XLHx7q-",
        "outputId": "73a66a94-9b17-435a-fd54-a94f97ad6984"
      },
      "execution_count": null,
      "outputs": [
        {
          "output_type": "execute_result",
          "data": {
            "text/plain": [
              "0.25"
            ]
          },
          "metadata": {},
          "execution_count": 40
        }
      ]
    },
    {
      "cell_type": "markdown",
      "source": [
        "### 4. Exponential distribution\n",
        "\n",
        "The exponential distribution is a continuous analog of the geometric distribution and models the amount of time you have to wait before an event occurs given a certain occurrence rate.\n",
        ">Note: The average arrival time for the exponential distribution is equal to 1/arrival_rate."
      ],
      "metadata": {
        "id": "lJkziw1YyEjO"
      }
    },
    {
      "cell_type": "markdown",
      "source": [
        ">Q. Find the probability that waiting time exceeds 3 minute for getting a bus service with average inter-arrival time 1 minute. Plot this exponential distribution."
      ],
      "metadata": {
        "id": "cV74pR5xyRiU"
      }
    },
    {
      "cell_type": "code",
      "source": [
        "# Get the probability of waiting more than 3 time unit before a success\n",
        "from scipy.stats import expon\n",
        "prob_3 = expon.cdf(x=3,        \n",
        "                         scale=1)  # Arrival rate\n",
        "\n",
        "1 - prob_3"
      ],
      "metadata": {
        "colab": {
          "base_uri": "https://localhost:8080/"
        },
        "id": "ReYLiECOyWmP",
        "outputId": "1c004f20-8fba-4fc7-a444-25bb14c54521"
      },
      "execution_count": null,
      "outputs": [
        {
          "output_type": "execute_result",
          "data": {
            "text/plain": [
              "0.04978706836786395"
            ]
          },
          "metadata": {},
          "execution_count": 41
        }
      ]
    },
    {
      "cell_type": "code",
      "source": [
        "import numpy as np\n",
        "import matplotlib.pyplot as plt\n",
        "plt.fill_between(x=np.arange(0,3,0.01), \n",
        "                 y1= expon.pdf(np.arange(0,3,0.01)) ,\n",
        "                 facecolor='blue',\n",
        "                 alpha=0.35)\n",
        "\n",
        "plt.fill_between(x=np.arange(3,7,0.01), \n",
        "                 y1= expon.pdf(np.arange(3,7,0.01)) ,\n",
        "                 facecolor='red',\n",
        "                 alpha=0.35)\n",
        "\n",
        "\n",
        "plt.text(x=0.3, y=0.2, s= round(prob_3,3))\n",
        "plt.text(x=3.1, y=0.02, s= round(1 - prob_3,3));"
      ],
      "metadata": {
        "colab": {
          "base_uri": "https://localhost:8080/",
          "height": 268
        },
        "id": "2qxbkTsXzKdB",
        "outputId": "8e8ef643-46ae-4e43-b9ac-9ede9b805a4a"
      },
      "execution_count": null,
      "outputs": [
        {
          "output_type": "display_data",
          "data": {
            "image/png": "[encoded data removed]",
            "text/plain": [
              "<Figure size 432x288 with 1 Axes>"
            ]
          },
          "metadata": {
            "needs_background": "light"
          }
        }
      ]
    },
    {
      "cell_type": "markdown",
      "source": [
        "Q. Find the probability that waiting time is greater than 5 minutes, if the service mechanism has an average inter arrival time 3 minutes."
      ],
      "metadata": {
        "id": "uRdTQ0iWz1qZ"
      }
    },
    {
      "cell_type": "code",
      "source": [
        "#scale=1/time\n",
        "scale=1/3\n",
        "prob_5 = expon.cdf(x=5,scale=scale)\n",
        "1-prob_5"
      ],
      "metadata": {
        "colab": {
          "base_uri": "https://localhost:8080/"
        },
        "id": "rGYDo_r5z8ra",
        "outputId": "7e73443d-d47e-4353-9877-7ee26aa2f90b"
      },
      "execution_count": null,
      "outputs": [
        {
          "output_type": "execute_result",
          "data": {
            "text/plain": [
              "3.059023204743383e-07"
            ]
          },
          "metadata": {},
          "execution_count": 43
        }
      ]
    },
    {
      "cell_type": "markdown",
      "source": [
        "### 5. Uniform distribution\n",
        "\n",
        "> In a Car hiring company the hiring are found to be uniformally distributed between 2 and 9 calls per day. Find\n",
        "\n",
        "1. The cance for getting atleast 3 calls per day\n",
        "2. The chance for a getting atmost 7 calls per day\n",
        "3. If the number of calls exceeds 12, the company is ready to open a new office in the most required location. Suggest a statistically valid option for this plan.\n",
        "4. If there are 20 % chance for a call in a day, then how many calls do you expect that day?"
      ],
      "metadata": {
        "id": "C088XdZu05nd"
      }
    },
    {
      "cell_type": "code",
      "source": [
        "from scipy.stats import uniform\n",
        "start=2\n",
        "end=9\n",
        "prob_M3=1-uniform.cdf(3,loc=start,scale=end)\n",
        "prob_atmost_7=uniform.cdf(7,loc=start,scale=end)\n",
        "prob_new_office=1-uniform.cdf(12,loc=start,scale=end)\n",
        "no_of_calls=uniform.ppf(q=0.2,loc=2,scale=9)\n",
        "exact_2=uniform.pdf(2,loc=start,scale=end)\n"
      ],
      "metadata": {
        "id": "pse9MXP208Xq"
      },
      "execution_count": null,
      "outputs": []
    },
    {
      "cell_type": "code",
      "source": [
        "print(prob_M3)"
      ],
      "metadata": {
        "colab": {
          "base_uri": "https://localhost:8080/"
        },
        "id": "2PdhUIUk18TQ",
        "outputId": "de3e6eaa-ef63-4e59-a54d-e65859cc9f8a"
      },
      "execution_count": null,
      "outputs": [
        {
          "output_type": "stream",
          "name": "stdout",
          "text": [
            "0.8888888888888888\n"
          ]
        }
      ]
    },
    {
      "cell_type": "code",
      "source": [
        "print(no_of_calls)"
      ],
      "metadata": {
        "colab": {
          "base_uri": "https://localhost:8080/"
        },
        "id": "pH6Rgq-s2GrN",
        "outputId": "df1bb0aa-6529-4e8b-d967-c06734d5814a"
      },
      "execution_count": null,
      "outputs": [
        {
          "output_type": "stream",
          "name": "stdout",
          "text": [
            "3.8\n"
          ]
        }
      ]
    },
    {
      "cell_type": "markdown",
      "source": [
        "### 6.Normal distribution"
      ],
      "metadata": {
        "id": "DapY2Lla2RI3"
      }
    },
    {
      "cell_type": "markdown",
      "source": [
        "Q. A sample of 100 dry battery cells tested to \n",
        "nd the length of\n",
        "life produced the following results: \u0016x = 12 hrs and \u001b =3 hours. Assuming the\n",
        "data to be normally distributed, what percentage of battery cells are expected\n",
        "to have life\n",
        "\n",
        "(a) more than 15 hours.\n",
        "\n",
        "(b) less than 6 hours.\n",
        "\n",
        "(c) between 10 and 14 hours.\n"
      ],
      "metadata": {
        "id": "t097sjlB2Vjm"
      }
    },
    {
      "cell_type": "code",
      "source": [
        "norm.cdf(x=15,loc=12,scale=3)"
      ],
      "metadata": {
        "colab": {
          "base_uri": "https://localhost:8080/"
        },
        "id": "duxmUX2F2SFm",
        "outputId": "727fbb84-9b88-4203-d09e-622444e631ba"
      },
      "execution_count": null,
      "outputs": [
        {
          "output_type": "execute_result",
          "data": {
            "text/plain": [
              "0.8413447460685429"
            ]
          },
          "metadata": {},
          "execution_count": 53
        }
      ]
    },
    {
      "cell_type": "code",
      "source": [
        "norm.cdf(x=6,loc=12,scale=3)"
      ],
      "metadata": {
        "colab": {
          "base_uri": "https://localhost:8080/"
        },
        "id": "k30UZVRU3uP9",
        "outputId": "eb4341f2-4253-4f69-c8c9-cb1180b958c3"
      },
      "execution_count": null,
      "outputs": [
        {
          "output_type": "execute_result",
          "data": {
            "text/plain": [
              "0.022750131948179195"
            ]
          },
          "metadata": {},
          "execution_count": 50
        }
      ]
    },
    {
      "cell_type": "code",
      "source": [
        "norm.cdf(x=14,loc=12,scale=3)-norm.cdf(x=10,loc=12,scale=3)"
      ],
      "metadata": {
        "colab": {
          "base_uri": "https://localhost:8080/"
        },
        "id": "jxAgnsf63xhG",
        "outputId": "72b7ad83-1f53-4f5e-c852-29924a4f31f4"
      },
      "execution_count": null,
      "outputs": [
        {
          "output_type": "execute_result",
          "data": {
            "text/plain": [
              "0.4950149249061542"
            ]
          },
          "metadata": {},
          "execution_count": 52
        }
      ]
    },
    {
      "cell_type": "code",
      "source": [
        "#calculating cumulative probabilities\n",
        "prob_under_minus1 = norm.cdf(x= -1,  \n",
        "                                loc = 0,               \n",
        "                                scale= 1)     \n",
        "\n",
        "prob_over_1 = 1 - norm.cdf(x= 1,  \n",
        "                                loc = 0,               \n",
        "                                scale= 1) \n",
        "\n",
        "between_prob = 1-(prob_under_minus1+prob_over_1)\n",
        "\n",
        "print(prob_under_minus1, prob_over_1, between_prob)"
      ],
      "metadata": {
        "colab": {
          "base_uri": "https://localhost:8080/"
        },
        "id": "nDvt9F_e40_T",
        "outputId": "c1f18d02-0dee-4af1-b669-78f1cb4f4ebe"
      },
      "execution_count": null,
      "outputs": [
        {
          "output_type": "stream",
          "name": "stdout",
          "text": [
            "0.15865525393145707 0.15865525393145707 0.6826894921370859\n"
          ]
        }
      ]
    },
    {
      "cell_type": "code",
      "source": [
        "plt.rcParams[\"figure.figsize\"] = (9,9)\n",
        "                                  \n",
        "plt.fill_between(x=np.arange(-4,-1,0.01), \n",
        "                 y1= norm.pdf(np.arange(-4,-1,0.01)) ,\n",
        "                 facecolor='red',\n",
        "                 alpha=0.35)\n",
        "plt.fill_between(x=np.arange(1,4,0.01), \n",
        "                 y1= norm.pdf(np.arange(1,4,0.01)) ,\n",
        "                 facecolor='red',\n",
        "                 alpha=0.35)\n",
        "plt.fill_between(x=np.arange(-1,1,0.01), \n",
        "                 y1= norm.pdf(np.arange(-1,1,0.01)) ,\n",
        "                 facecolor='blue',\n",
        "                 alpha=0.35)\n",
        "plt.text(x=-1.8, y=0.03, s= round(prob_under_minus1,3))\n",
        "plt.text(x=-0.2, y=0.1, s= round(between_prob,3))\n",
        "plt.text(x=1.4, y=0.03, s= round(prob_over_1,3));"
      ],
      "metadata": {
        "colab": {
          "base_uri": "https://localhost:8080/",
          "height": 540
        },
        "id": "aoy3-77749q6",
        "outputId": "b91cc8e3-c75b-48f9-b69e-a42ae7d8be29"
      },
      "execution_count": null,
      "outputs": [
        {
          "output_type": "display_data",
          "data": {
            "image/png": "[encoded data removed]",
            "text/plain": [
              "<Figure size 648x648 with 1 Axes>"
            ]
          },
          "metadata": {
            "needs_background": "light"
          }
        }
      ]
    },
    {
      "cell_type": "markdown",
      "source": [
        "The scores of GATE examination is normally distributed with mean 45 and standard deviation 13. The Gov. is decided to give scholarships to the only top 5% of the GATE holders. Find the cut-off mark."
      ],
      "metadata": {
        "id": "cheRYc0Z5bUK"
      }
    },
    {
      "cell_type": "code",
      "source": [
        "print(norm.ppf(q=0.95,loc=45,scale=13))"
      ],
      "metadata": {
        "colab": {
          "base_uri": "https://localhost:8080/"
        },
        "id": "qtcPvpXe5jrx",
        "outputId": "46db99e3-757e-4eff-9247-f3b93c1e6d19"
      },
      "execution_count": null,
      "outputs": [
        {
          "output_type": "stream",
          "name": "stdout",
          "text": [
            "66.38309715036914\n"
          ]
        }
      ]
    }
  ]
}